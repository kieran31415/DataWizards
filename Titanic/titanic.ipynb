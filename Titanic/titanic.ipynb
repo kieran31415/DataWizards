{
 "cells": [
  {
   "cell_type": "code",
   "execution_count": 1,
   "metadata": {},
   "outputs": [],
   "source": [
    "#!pip install missingno"
   ]
  },
  {
   "cell_type": "code",
   "execution_count": 2,
   "metadata": {},
   "outputs": [],
   "source": [
    "#!pip install openpyxl"
   ]
  },
  {
   "cell_type": "code",
   "execution_count": 3,
   "metadata": {},
   "outputs": [],
   "source": [
    "import pandas as pd\n",
    "import matplotlib.pyplot as plt\n",
    "import seaborn as sns\n",
    "import numpy as np\n",
    "import category_encoders as ce\n",
    "import missingno"
   ]
  },
  {
   "cell_type": "code",
   "execution_count": 4,
   "metadata": {},
   "outputs": [
    {
     "name": "stdout",
     "output_type": "stream",
     "text": [
      "<class 'pandas.core.frame.DataFrame'>\n",
      "RangeIndex: 1309 entries, 0 to 1308\n",
      "Data columns (total 14 columns):\n",
      " #   Column     Non-Null Count  Dtype  \n",
      "---  ------     --------------  -----  \n",
      " 0   pclass     1309 non-null   int64  \n",
      " 1   survived   1309 non-null   int64  \n",
      " 2   name       1309 non-null   object \n",
      " 3   sex        1309 non-null   object \n",
      " 4   age        1046 non-null   float64\n",
      " 5   sibsp      1309 non-null   int64  \n",
      " 6   parch      1309 non-null   int64  \n",
      " 7   ticket     1309 non-null   object \n",
      " 8   fare       1308 non-null   float64\n",
      " 9   cabin      295 non-null    object \n",
      " 10  embarked   1307 non-null   object \n",
      " 11  boat       486 non-null    object \n",
      " 12  body       121 non-null    float64\n",
      " 13  home.dest  745 non-null    object \n",
      "dtypes: float64(3), int64(4), object(7)\n",
      "memory usage: 143.3+ KB\n"
     ]
    }
   ],
   "source": [
    "# Load a sheet into a DataFrame by its name\n",
    "df = pd.read_excel('files/titanic3.xlsx')\n",
    "# See basic info about our dataframe\n",
    "df.info()"
   ]
  },
  {
   "cell_type": "markdown",
   "metadata": {},
   "source": [
    "We can already see that all column names are lowercase and have no spaces in them so we do not need to make any changes to that. We may change the naming of the columns later on but for now these names are clear enough."
   ]
  },
  {
   "cell_type": "code",
   "execution_count": 5,
   "metadata": {},
   "outputs": [
    {
     "data": {
      "text/html": [
       "<div>\n",
       "<style scoped>\n",
       "    .dataframe tbody tr th:only-of-type {\n",
       "        vertical-align: middle;\n",
       "    }\n",
       "\n",
       "    .dataframe tbody tr th {\n",
       "        vertical-align: top;\n",
       "    }\n",
       "\n",
       "    .dataframe thead th {\n",
       "        text-align: right;\n",
       "    }\n",
       "</style>\n",
       "<table border=\"1\" class=\"dataframe\">\n",
       "  <thead>\n",
       "    <tr style=\"text-align: right;\">\n",
       "      <th></th>\n",
       "      <th>pclass</th>\n",
       "      <th>survived</th>\n",
       "      <th>name</th>\n",
       "      <th>sex</th>\n",
       "      <th>age</th>\n",
       "      <th>sibsp</th>\n",
       "      <th>parch</th>\n",
       "      <th>ticket</th>\n",
       "      <th>fare</th>\n",
       "      <th>cabin</th>\n",
       "      <th>embarked</th>\n",
       "      <th>boat</th>\n",
       "      <th>body</th>\n",
       "      <th>home.dest</th>\n",
       "    </tr>\n",
       "  </thead>\n",
       "  <tbody>\n",
       "    <tr>\n",
       "      <th>0</th>\n",
       "      <td>1</td>\n",
       "      <td>1</td>\n",
       "      <td>Allen, Miss. Elisabeth Walton</td>\n",
       "      <td>female</td>\n",
       "      <td>29.0000</td>\n",
       "      <td>0</td>\n",
       "      <td>0</td>\n",
       "      <td>24160</td>\n",
       "      <td>211.3375</td>\n",
       "      <td>B5</td>\n",
       "      <td>S</td>\n",
       "      <td>2</td>\n",
       "      <td>NaN</td>\n",
       "      <td>St Louis, MO</td>\n",
       "    </tr>\n",
       "    <tr>\n",
       "      <th>1</th>\n",
       "      <td>1</td>\n",
       "      <td>1</td>\n",
       "      <td>Allison, Master. Hudson Trevor</td>\n",
       "      <td>male</td>\n",
       "      <td>0.9167</td>\n",
       "      <td>1</td>\n",
       "      <td>2</td>\n",
       "      <td>113781</td>\n",
       "      <td>151.5500</td>\n",
       "      <td>C22 C26</td>\n",
       "      <td>S</td>\n",
       "      <td>11</td>\n",
       "      <td>NaN</td>\n",
       "      <td>Montreal, PQ / Chesterville, ON</td>\n",
       "    </tr>\n",
       "    <tr>\n",
       "      <th>2</th>\n",
       "      <td>1</td>\n",
       "      <td>0</td>\n",
       "      <td>Allison, Miss. Helen Loraine</td>\n",
       "      <td>female</td>\n",
       "      <td>2.0000</td>\n",
       "      <td>1</td>\n",
       "      <td>2</td>\n",
       "      <td>113781</td>\n",
       "      <td>151.5500</td>\n",
       "      <td>C22 C26</td>\n",
       "      <td>S</td>\n",
       "      <td>NaN</td>\n",
       "      <td>NaN</td>\n",
       "      <td>Montreal, PQ / Chesterville, ON</td>\n",
       "    </tr>\n",
       "    <tr>\n",
       "      <th>3</th>\n",
       "      <td>1</td>\n",
       "      <td>0</td>\n",
       "      <td>Allison, Mr. Hudson Joshua Creighton</td>\n",
       "      <td>male</td>\n",
       "      <td>30.0000</td>\n",
       "      <td>1</td>\n",
       "      <td>2</td>\n",
       "      <td>113781</td>\n",
       "      <td>151.5500</td>\n",
       "      <td>C22 C26</td>\n",
       "      <td>S</td>\n",
       "      <td>NaN</td>\n",
       "      <td>135.0</td>\n",
       "      <td>Montreal, PQ / Chesterville, ON</td>\n",
       "    </tr>\n",
       "    <tr>\n",
       "      <th>4</th>\n",
       "      <td>1</td>\n",
       "      <td>0</td>\n",
       "      <td>Allison, Mrs. Hudson J C (Bessie Waldo Daniels)</td>\n",
       "      <td>female</td>\n",
       "      <td>25.0000</td>\n",
       "      <td>1</td>\n",
       "      <td>2</td>\n",
       "      <td>113781</td>\n",
       "      <td>151.5500</td>\n",
       "      <td>C22 C26</td>\n",
       "      <td>S</td>\n",
       "      <td>NaN</td>\n",
       "      <td>NaN</td>\n",
       "      <td>Montreal, PQ / Chesterville, ON</td>\n",
       "    </tr>\n",
       "    <tr>\n",
       "      <th>5</th>\n",
       "      <td>1</td>\n",
       "      <td>1</td>\n",
       "      <td>Anderson, Mr. Harry</td>\n",
       "      <td>male</td>\n",
       "      <td>48.0000</td>\n",
       "      <td>0</td>\n",
       "      <td>0</td>\n",
       "      <td>19952</td>\n",
       "      <td>26.5500</td>\n",
       "      <td>E12</td>\n",
       "      <td>S</td>\n",
       "      <td>3</td>\n",
       "      <td>NaN</td>\n",
       "      <td>New York, NY</td>\n",
       "    </tr>\n",
       "  </tbody>\n",
       "</table>\n",
       "</div>"
      ],
      "text/plain": [
       "   pclass  survived                                             name     sex  \\\n",
       "0       1         1                    Allen, Miss. Elisabeth Walton  female   \n",
       "1       1         1                   Allison, Master. Hudson Trevor    male   \n",
       "2       1         0                     Allison, Miss. Helen Loraine  female   \n",
       "3       1         0             Allison, Mr. Hudson Joshua Creighton    male   \n",
       "4       1         0  Allison, Mrs. Hudson J C (Bessie Waldo Daniels)  female   \n",
       "5       1         1                              Anderson, Mr. Harry    male   \n",
       "\n",
       "       age  sibsp  parch  ticket      fare    cabin embarked boat   body  \\\n",
       "0  29.0000      0      0   24160  211.3375       B5        S    2    NaN   \n",
       "1   0.9167      1      2  113781  151.5500  C22 C26        S   11    NaN   \n",
       "2   2.0000      1      2  113781  151.5500  C22 C26        S  NaN    NaN   \n",
       "3  30.0000      1      2  113781  151.5500  C22 C26        S  NaN  135.0   \n",
       "4  25.0000      1      2  113781  151.5500  C22 C26        S  NaN    NaN   \n",
       "5  48.0000      0      0   19952   26.5500      E12        S    3    NaN   \n",
       "\n",
       "                         home.dest  \n",
       "0                     St Louis, MO  \n",
       "1  Montreal, PQ / Chesterville, ON  \n",
       "2  Montreal, PQ / Chesterville, ON  \n",
       "3  Montreal, PQ / Chesterville, ON  \n",
       "4  Montreal, PQ / Chesterville, ON  \n",
       "5                     New York, NY  "
      ]
     },
     "execution_count": 5,
     "metadata": {},
     "output_type": "execute_result"
    }
   ],
   "source": [
    "# Let's do some data exploration by looking at the first and last few rows of our dataframe\n",
    "df.head(6)"
   ]
  },
  {
   "cell_type": "code",
   "execution_count": 6,
   "metadata": {},
   "outputs": [
    {
     "data": {
      "text/html": [
       "<div>\n",
       "<style scoped>\n",
       "    .dataframe tbody tr th:only-of-type {\n",
       "        vertical-align: middle;\n",
       "    }\n",
       "\n",
       "    .dataframe tbody tr th {\n",
       "        vertical-align: top;\n",
       "    }\n",
       "\n",
       "    .dataframe thead th {\n",
       "        text-align: right;\n",
       "    }\n",
       "</style>\n",
       "<table border=\"1\" class=\"dataframe\">\n",
       "  <thead>\n",
       "    <tr style=\"text-align: right;\">\n",
       "      <th></th>\n",
       "      <th>pclass</th>\n",
       "      <th>survived</th>\n",
       "      <th>name</th>\n",
       "      <th>sex</th>\n",
       "      <th>age</th>\n",
       "      <th>sibsp</th>\n",
       "      <th>parch</th>\n",
       "      <th>ticket</th>\n",
       "      <th>fare</th>\n",
       "      <th>cabin</th>\n",
       "      <th>embarked</th>\n",
       "      <th>boat</th>\n",
       "      <th>body</th>\n",
       "      <th>home.dest</th>\n",
       "    </tr>\n",
       "  </thead>\n",
       "  <tbody>\n",
       "    <tr>\n",
       "      <th>1303</th>\n",
       "      <td>3</td>\n",
       "      <td>0</td>\n",
       "      <td>Yousseff, Mr. Gerious</td>\n",
       "      <td>male</td>\n",
       "      <td>NaN</td>\n",
       "      <td>0</td>\n",
       "      <td>0</td>\n",
       "      <td>2627</td>\n",
       "      <td>14.4583</td>\n",
       "      <td>NaN</td>\n",
       "      <td>C</td>\n",
       "      <td>NaN</td>\n",
       "      <td>NaN</td>\n",
       "      <td>NaN</td>\n",
       "    </tr>\n",
       "    <tr>\n",
       "      <th>1304</th>\n",
       "      <td>3</td>\n",
       "      <td>0</td>\n",
       "      <td>Zabour, Miss. Hileni</td>\n",
       "      <td>female</td>\n",
       "      <td>14.5</td>\n",
       "      <td>1</td>\n",
       "      <td>0</td>\n",
       "      <td>2665</td>\n",
       "      <td>14.4542</td>\n",
       "      <td>NaN</td>\n",
       "      <td>C</td>\n",
       "      <td>NaN</td>\n",
       "      <td>328.0</td>\n",
       "      <td>NaN</td>\n",
       "    </tr>\n",
       "    <tr>\n",
       "      <th>1305</th>\n",
       "      <td>3</td>\n",
       "      <td>0</td>\n",
       "      <td>Zabour, Miss. Thamine</td>\n",
       "      <td>female</td>\n",
       "      <td>NaN</td>\n",
       "      <td>1</td>\n",
       "      <td>0</td>\n",
       "      <td>2665</td>\n",
       "      <td>14.4542</td>\n",
       "      <td>NaN</td>\n",
       "      <td>C</td>\n",
       "      <td>NaN</td>\n",
       "      <td>NaN</td>\n",
       "      <td>NaN</td>\n",
       "    </tr>\n",
       "    <tr>\n",
       "      <th>1306</th>\n",
       "      <td>3</td>\n",
       "      <td>0</td>\n",
       "      <td>Zakarian, Mr. Mapriededer</td>\n",
       "      <td>male</td>\n",
       "      <td>26.5</td>\n",
       "      <td>0</td>\n",
       "      <td>0</td>\n",
       "      <td>2656</td>\n",
       "      <td>7.2250</td>\n",
       "      <td>NaN</td>\n",
       "      <td>C</td>\n",
       "      <td>NaN</td>\n",
       "      <td>304.0</td>\n",
       "      <td>NaN</td>\n",
       "    </tr>\n",
       "    <tr>\n",
       "      <th>1307</th>\n",
       "      <td>3</td>\n",
       "      <td>0</td>\n",
       "      <td>Zakarian, Mr. Ortin</td>\n",
       "      <td>male</td>\n",
       "      <td>27.0</td>\n",
       "      <td>0</td>\n",
       "      <td>0</td>\n",
       "      <td>2670</td>\n",
       "      <td>7.2250</td>\n",
       "      <td>NaN</td>\n",
       "      <td>C</td>\n",
       "      <td>NaN</td>\n",
       "      <td>NaN</td>\n",
       "      <td>NaN</td>\n",
       "    </tr>\n",
       "    <tr>\n",
       "      <th>1308</th>\n",
       "      <td>3</td>\n",
       "      <td>0</td>\n",
       "      <td>Zimmerman, Mr. Leo</td>\n",
       "      <td>male</td>\n",
       "      <td>29.0</td>\n",
       "      <td>0</td>\n",
       "      <td>0</td>\n",
       "      <td>315082</td>\n",
       "      <td>7.8750</td>\n",
       "      <td>NaN</td>\n",
       "      <td>S</td>\n",
       "      <td>NaN</td>\n",
       "      <td>NaN</td>\n",
       "      <td>NaN</td>\n",
       "    </tr>\n",
       "  </tbody>\n",
       "</table>\n",
       "</div>"
      ],
      "text/plain": [
       "      pclass  survived                       name     sex   age  sibsp  parch  \\\n",
       "1303       3         0      Yousseff, Mr. Gerious    male   NaN      0      0   \n",
       "1304       3         0       Zabour, Miss. Hileni  female  14.5      1      0   \n",
       "1305       3         0      Zabour, Miss. Thamine  female   NaN      1      0   \n",
       "1306       3         0  Zakarian, Mr. Mapriededer    male  26.5      0      0   \n",
       "1307       3         0        Zakarian, Mr. Ortin    male  27.0      0      0   \n",
       "1308       3         0         Zimmerman, Mr. Leo    male  29.0      0      0   \n",
       "\n",
       "      ticket     fare cabin embarked boat   body home.dest  \n",
       "1303    2627  14.4583   NaN        C  NaN    NaN       NaN  \n",
       "1304    2665  14.4542   NaN        C  NaN  328.0       NaN  \n",
       "1305    2665  14.4542   NaN        C  NaN    NaN       NaN  \n",
       "1306    2656   7.2250   NaN        C  NaN  304.0       NaN  \n",
       "1307    2670   7.2250   NaN        C  NaN    NaN       NaN  \n",
       "1308  315082   7.8750   NaN        S  NaN    NaN       NaN  "
      ]
     },
     "execution_count": 6,
     "metadata": {},
     "output_type": "execute_result"
    }
   ],
   "source": [
    "df.tail(6)"
   ]
  },
  {
   "cell_type": "code",
   "execution_count": 7,
   "metadata": {},
   "outputs": [
    {
     "data": {
      "image/png": "[encoded data removed]",
      "text/plain": [
       "<Figure size 1600x800 with 1 Axes>"
      ]
     },
     "metadata": {},
     "output_type": "display_data"
    }
   ],
   "source": [
    "#Let's check our data for outliers in the regarding the people who survived and how much they paid\n",
    "data = pd.concat([df['survived'], df['fare']], axis=1)\n",
    "f, ax = plt.subplots(figsize=(16, 8))\n",
    "fig = sns.boxplot(x=df['survived'], y=df['fare'], data=data)\n",
    "plt.xticks(rotation=90);"
   ]
  },
  {
   "cell_type": "markdown",
   "metadata": {},
   "source": [
    "It is clear that there are outliers that need to be fixed."
   ]
  },
  {
   "cell_type": "code",
   "execution_count": 8,
   "metadata": {},
   "outputs": [
    {
     "data": {
      "text/html": [
       "<div>\n",
       "<style scoped>\n",
       "    .dataframe tbody tr th:only-of-type {\n",
       "        vertical-align: middle;\n",
       "    }\n",
       "\n",
       "    .dataframe tbody tr th {\n",
       "        vertical-align: top;\n",
       "    }\n",
       "\n",
       "    .dataframe thead th {\n",
       "        text-align: right;\n",
       "    }\n",
       "</style>\n",
       "<table border=\"1\" class=\"dataframe\">\n",
       "  <thead>\n",
       "    <tr style=\"text-align: right;\">\n",
       "      <th></th>\n",
       "      <th>pclass</th>\n",
       "      <th>survived</th>\n",
       "      <th>name</th>\n",
       "      <th>sex</th>\n",
       "      <th>age</th>\n",
       "      <th>sibsp</th>\n",
       "      <th>parch</th>\n",
       "      <th>ticket</th>\n",
       "      <th>fare</th>\n",
       "      <th>cabin</th>\n",
       "      <th>embarked</th>\n",
       "      <th>boat</th>\n",
       "      <th>body</th>\n",
       "      <th>home.dest</th>\n",
       "    </tr>\n",
       "  </thead>\n",
       "  <tbody>\n",
       "    <tr>\n",
       "      <th>49</th>\n",
       "      <td>1</td>\n",
       "      <td>1</td>\n",
       "      <td>Cardeza, Mr. Thomas Drake Martinez</td>\n",
       "      <td>male</td>\n",
       "      <td>36.0</td>\n",
       "      <td>0</td>\n",
       "      <td>1</td>\n",
       "      <td>PC 17755</td>\n",
       "      <td>512.3292</td>\n",
       "      <td>B51 B53 B55</td>\n",
       "      <td>C</td>\n",
       "      <td>3</td>\n",
       "      <td>NaN</td>\n",
       "      <td>Austria-Hungary / Germantown, Philadelphia, PA</td>\n",
       "    </tr>\n",
       "    <tr>\n",
       "      <th>50</th>\n",
       "      <td>1</td>\n",
       "      <td>1</td>\n",
       "      <td>Cardeza, Mrs. James Warburton Martinez (Charlo...</td>\n",
       "      <td>female</td>\n",
       "      <td>58.0</td>\n",
       "      <td>0</td>\n",
       "      <td>1</td>\n",
       "      <td>PC 17755</td>\n",
       "      <td>512.3292</td>\n",
       "      <td>B51 B53 B55</td>\n",
       "      <td>C</td>\n",
       "      <td>3</td>\n",
       "      <td>NaN</td>\n",
       "      <td>Germantown, Philadelphia, PA</td>\n",
       "    </tr>\n",
       "    <tr>\n",
       "      <th>183</th>\n",
       "      <td>1</td>\n",
       "      <td>1</td>\n",
       "      <td>Lesurer, Mr. Gustave J</td>\n",
       "      <td>male</td>\n",
       "      <td>35.0</td>\n",
       "      <td>0</td>\n",
       "      <td>0</td>\n",
       "      <td>PC 17755</td>\n",
       "      <td>512.3292</td>\n",
       "      <td>B101</td>\n",
       "      <td>C</td>\n",
       "      <td>3</td>\n",
       "      <td>NaN</td>\n",
       "      <td>NaN</td>\n",
       "    </tr>\n",
       "    <tr>\n",
       "      <th>302</th>\n",
       "      <td>1</td>\n",
       "      <td>1</td>\n",
       "      <td>Ward, Miss. Anna</td>\n",
       "      <td>female</td>\n",
       "      <td>35.0</td>\n",
       "      <td>0</td>\n",
       "      <td>0</td>\n",
       "      <td>PC 17755</td>\n",
       "      <td>512.3292</td>\n",
       "      <td>NaN</td>\n",
       "      <td>C</td>\n",
       "      <td>3</td>\n",
       "      <td>NaN</td>\n",
       "      <td>NaN</td>\n",
       "    </tr>\n",
       "  </tbody>\n",
       "</table>\n",
       "</div>"
      ],
      "text/plain": [
       "     pclass  survived                                               name  \\\n",
       "49        1         1                 Cardeza, Mr. Thomas Drake Martinez   \n",
       "50        1         1  Cardeza, Mrs. James Warburton Martinez (Charlo...   \n",
       "183       1         1                             Lesurer, Mr. Gustave J   \n",
       "302       1         1                                   Ward, Miss. Anna   \n",
       "\n",
       "        sex   age  sibsp  parch    ticket      fare        cabin embarked  \\\n",
       "49     male  36.0      0      1  PC 17755  512.3292  B51 B53 B55        C   \n",
       "50   female  58.0      0      1  PC 17755  512.3292  B51 B53 B55        C   \n",
       "183    male  35.0      0      0  PC 17755  512.3292         B101        C   \n",
       "302  female  35.0      0      0  PC 17755  512.3292          NaN        C   \n",
       "\n",
       "    boat  body                                       home.dest  \n",
       "49     3   NaN  Austria-Hungary / Germantown, Philadelphia, PA  \n",
       "50     3   NaN                    Germantown, Philadelphia, PA  \n",
       "183    3   NaN                                             NaN  \n",
       "302    3   NaN                                             NaN  "
      ]
     },
     "execution_count": 8,
     "metadata": {},
     "output_type": "execute_result"
    }
   ],
   "source": [
    "# Let's see who are the people that have paid more than 500\n",
    "df[df['fare'] > 500]"
   ]
  },
  {
   "cell_type": "code",
   "execution_count": 9,
   "metadata": {},
   "outputs": [
    {
     "data": {
      "image/png": "[encoded data removed]",
      "text/plain": [
       "<Figure size 1600x800 with 1 Axes>"
      ]
     },
     "metadata": {},
     "output_type": "display_data"
    }
   ],
   "source": [
    "# We are going to change these outliers to the mean price that has been paid by the other passengers, we could do this by simply changing\n",
    "# the fare price of these passengers but let's use the technique that would be used when there are more than a few outliers\n",
    "# We use the outlier detection and removal technique\n",
    "\n",
    "# Calculate the IQR (InterQuartile Range) for the fare column\n",
    "Q1 = df['fare'].quantile(0.25)\n",
    "Q3 = df['fare'].quantile(0.75)\n",
    "IQR = Q3 - Q1\n",
    "\n",
    "# Define lower and upper bound for outliers, (sidenote, normally the multiplier used to calculate the lower and upper bound is around 1.5\n",
    "# but this would cause the identification of normal data as outliers resulting in a lot of good data to be lost because it is flagged as an\n",
    "# outlier. This is why we use such a high multiplier value.\n",
    "lower_bound = Q1 - 10 * IQR\n",
    "upper_bound = Q3 + 10 * IQR\n",
    "\n",
    "# Filter the data to exclude outliers\n",
    "df = df[(df['fare'] >= lower_bound) & (df['fare'] <= upper_bound)]\n",
    "\n",
    "# We again check for outliers using the same boxplot as used before\n",
    "data = pd.concat([df['survived'], df['fare']], axis=1)\n",
    "f, ax = plt.subplots(figsize=(16, 8))\n",
    "fig = sns.boxplot(x=df['survived'], y=df['fare'], data=data)\n",
    "#fig.axis(ymin=0, ymax=300);\n",
    "plt.xticks(rotation=90);"
   ]
  },
  {
   "cell_type": "markdown",
   "metadata": {},
   "source": [
    "We can now see that we have gotten rid of the outliers and the highest fare that was paid is now around 270."
   ]
  },
  {
   "cell_type": "code",
   "execution_count": 10,
   "metadata": {},
   "outputs": [
    {
     "data": {
      "text/plain": [
       "pclass          0\n",
       "survived        0\n",
       "name            0\n",
       "sex             0\n",
       "age           263\n",
       "sibsp           0\n",
       "parch           0\n",
       "ticket          0\n",
       "fare            0\n",
       "cabin        1012\n",
       "embarked        2\n",
       "boat          822\n",
       "body         1184\n",
       "home.dest     561\n",
       "dtype: int64"
      ]
     },
     "execution_count": 10,
     "metadata": {},
     "output_type": "execute_result"
    }
   ],
   "source": [
    "# The following thing we can do is to check how many empty rows each feature/column has.\n",
    "df.isna().sum()"
   ]
  },
  {
   "cell_type": "code",
   "execution_count": 11,
   "metadata": {},
   "outputs": [
    {
     "data": {
      "text/plain": [
       "pclass       1304\n",
       "survived     1304\n",
       "name         1304\n",
       "sex          1304\n",
       "age          1041\n",
       "sibsp        1304\n",
       "parch        1304\n",
       "ticket       1304\n",
       "fare         1304\n",
       "cabin         292\n",
       "embarked     1302\n",
       "boat          482\n",
       "body          120\n",
       "home.dest     743\n",
       "dtype: int64"
      ]
     },
     "execution_count": 11,
     "metadata": {},
     "output_type": "execute_result"
    }
   ],
   "source": [
    "# This can form a problem if a certain column has way less data compared to the rest, let's check this\n",
    "df.count()"
   ]
  },
  {
   "cell_type": "code",
   "execution_count": 12,
   "metadata": {},
   "outputs": [
    {
     "data": {
      "text/plain": [
       "<Axes: >"
      ]
     },
     "execution_count": 12,
     "metadata": {},
     "output_type": "execute_result"
    },
    {
     "data": {
      "image/png": "[encoded data removed]",
      "text/plain": [
       "<Figure size 2500x1000 with 3 Axes>"
      ]
     },
     "metadata": {},
     "output_type": "display_data"
    }
   ],
   "source": [
    "# We can even visualize this using the missingno library which helps to give a quick overview of your dataset completeness.\n",
    "import missingno as msno \n",
    "msno.bar(df) "
   ]
  },
  {
   "cell_type": "markdown",
   "metadata": {},
   "source": [
    "Age has some null values resulting in a slighty lower amount of data.\n",
    "Cabin is low because only the rich could afford one so that makes sense.\n",
    "Boat is low because only people who survived have a value there and even then not every survivor has a value.\n",
    "Body is low because it immediatly eliminates anyone that survived but still only a small amount of bodies were found.\n",
    "Only about half of all home destinations are known."
   ]
  },
  {
   "cell_type": "markdown",
   "metadata": {},
   "source": [
    "Let's take a look at the name column"
   ]
  },
  {
   "cell_type": "code",
   "execution_count": 13,
   "metadata": {},
   "outputs": [
    {
     "name": "stdout",
     "output_type": "stream",
     "text": [
      "0                      Allen, Miss. Elisabeth Walton\n",
      "1                     Allison, Master. Hudson Trevor\n",
      "2                       Allison, Miss. Helen Loraine\n",
      "3               Allison, Mr. Hudson Joshua Creighton\n",
      "4    Allison, Mrs. Hudson J C (Bessie Waldo Daniels)\n",
      "Name: name, dtype: object\n",
      "1304         Zabour, Miss. Hileni\n",
      "1305        Zabour, Miss. Thamine\n",
      "1306    Zakarian, Mr. Mapriededer\n",
      "1307          Zakarian, Mr. Ortin\n",
      "1308           Zimmerman, Mr. Leo\n",
      "Name: name, dtype: object\n"
     ]
    }
   ],
   "source": [
    "print(df['name'].head(5))\n",
    "print(df['name'].tail(5))"
   ]
  },
  {
   "cell_type": "markdown",
   "metadata": {},
   "source": [
    "We can see this includes both the first and last name but also the title.\n",
    "Lets split these 3 apart into seperate columns."
   ]
  },
  {
   "cell_type": "code",
   "execution_count": 14,
   "metadata": {},
   "outputs": [],
   "source": [
    "df['firstname']=df['name'].str.split(r'[,.]', expand=True)[2]\n",
    "df['title']=df['name'].str.split(r'[,.]', expand=True)[1]\n",
    "df['tastname']=df['name'].str.split(r'[,.]', expand=True)[0]"
   ]
  },
  {
   "cell_type": "markdown",
   "metadata": {},
   "source": [
    "We do not need the name column anymore and so we drop it"
   ]
  },
  {
   "cell_type": "code",
   "execution_count": 15,
   "metadata": {},
   "outputs": [],
   "source": [
    "df.drop('name', axis = 1, inplace = True)"
   ]
  },
  {
   "cell_type": "markdown",
   "metadata": {},
   "source": [
    "Let's take a look at the amount of times the different titles occur."
   ]
  },
  {
   "cell_type": "code",
   "execution_count": 16,
   "metadata": {},
   "outputs": [
    {
     "data": {
      "text/plain": [
       " Mr              754\n",
       " Miss            259\n",
       " Mrs             196\n",
       " Master           61\n",
       " Rev               8\n",
       " Dr                8\n",
       " Col               4\n",
       " Mlle              2\n",
       " Ms                2\n",
       " Major             2\n",
       " Capt              1\n",
       " Sir               1\n",
       " Dona              1\n",
       " Jonkheer          1\n",
       " the Countess      1\n",
       " Don               1\n",
       " Mme               1\n",
       " Lady              1\n",
       "Name: title, dtype: int64"
      ]
     },
     "execution_count": 16,
     "metadata": {},
     "output_type": "execute_result"
    }
   ],
   "source": [
    "df.title.value_counts()"
   ]
  },
  {
   "cell_type": "markdown",
   "metadata": {},
   "source": [
    "We can see that a lot of titles only occur once but have the same meaning so we change some of these titles so that it is more clear."
   ]
  },
  {
   "cell_type": "code",
   "execution_count": 17,
   "metadata": {},
   "outputs": [
    {
     "name": "stdout",
     "output_type": "stream",
     "text": [
      "['Miss' 'Master' 'Mr' 'Mrs' 'Officer' 'Royal']\n",
      "Mr         754\n",
      "Miss       261\n",
      "Mrs        199\n",
      "Master      61\n",
      "Officer     23\n",
      "Royal        6\n",
      "Name: title, dtype: int64\n"
     ]
    }
   ],
   "source": [
    "normalized_titles = {\n",
    "    \"Capt\":       \"Officer\",\n",
    "    \"Col\":        \"Officer\",\n",
    "    \"Major\":      \"Officer\",\n",
    "    \"Jonkheer\":   \"Royal\",\n",
    "    \"Don\":        \"Royal\",\n",
    "    \"Sir\" :       \"Royal\",\n",
    "    \"Dr\":         \"Officer\",\n",
    "    \"Rev\":        \"Officer\",\n",
    "    \"the Countess\":\"Royal\",\n",
    "    \"Dona\":       \"Royal\",\n",
    "    \"Mme\":        \"Mrs\",\n",
    "    \"Mlle\":       \"Miss\",\n",
    "    \"Ms\":         \"Mrs\",\n",
    "    \"Mr\" :        \"Mr\",\n",
    "    \"Mrs\" :       \"Mrs\",\n",
    "    \"Miss\" :      \"Miss\",\n",
    "    \"Master\" :    \"Master\",\n",
    "    \"Lady\" :      \"Royal\"\n",
    "}\n",
    "# Strip leading and trailing spaces from the 'title' column\n",
    "df['title'] = df['title'].str.strip()\n",
    "\n",
    "# Now, apply the mapping to change original values to new values\n",
    "df['title'] = df['title'].map(normalized_titles)\n",
    "\n",
    "# Verify the unique values in the 'title' column\n",
    "print(df['title'].unique())\n",
    "\n",
    "# Now, run df['title'].value_counts()\n",
    "value_counts_result = df['title'].value_counts()\n",
    "print(value_counts_result)"
   ]
  },
  {
   "cell_type": "markdown",
   "metadata": {},
   "source": [
    "Let's fix the null values in age. First we check what the mean age is."
   ]
  },
  {
   "cell_type": "code",
   "execution_count": 18,
   "metadata": {},
   "outputs": [
    {
     "data": {
      "text/plain": [
       "30.0"
      ]
     },
     "execution_count": 18,
     "metadata": {},
     "output_type": "execute_result"
    }
   ],
   "source": [
    "mean_age = df['age'].mean()\n",
    "mean_age.round(0)"
   ]
  },
  {
   "cell_type": "markdown",
   "metadata": {},
   "source": [
    "We have multiple options now on how we can fix the null values.\n",
    "One could be to just simply remove the rows containing null values but 263 rows is a lot of good data to just simply delete.\n",
    "Another option could be to replace the null values with the average age but what would happen then is that when we visualise our data there would be a spike with the amount of people that are exactly the mean age.\n",
    "What we do instead is to replace the null values with the mean value but instead of assigning a fixed value we give random values but when you calculate the mean of those values they result in the mean of the current age.\n",
    "\n",
    "We can also make sure that the people"
   ]
  },
  {
   "cell_type": "code",
   "execution_count": 19,
   "metadata": {},
   "outputs": [
    {
     "name": "stdout",
     "output_type": "stream",
     "text": [
      "0\n"
     ]
    }
   ],
   "source": [
    "# Calculate the mean age for non-null values\n",
    "mean_age = df['age'].mean()\n",
    "\n",
    "# Calculate the standard deviation of the age column, which will be used to generate random but believable age values\n",
    "std_age = df['age'].std()\n",
    "\n",
    "# Create a mask to identify rows with \"Master\" or \"Miss\" in the \"title\" column\n",
    "master_miss_mask = (df['title'] == 'Master') | (df['title'] == 'Miss')\n",
    "\n",
    "# Generate random values for rows with \"Master\" or \"Miss\" based on a different standard deviation\n",
    "random_values_master_miss = np.random.normal(loc=0, scale=std_age * 0.5, size=master_miss_mask.sum())\n",
    "\n",
    "# Shift the distribution to have the same mean as the original data\n",
    "added_values_master_miss = random_values_master_miss + mean_age\n",
    "\n",
    "# Update the 'age' column for rows with \"Master\" or \"Miss\" individually\n",
    "master_miss_indices = df.index[master_miss_mask]\n",
    "for i, index in enumerate(master_miss_indices):\n",
    "    # Ensure that the age does not exceed 18\n",
    "    age = min(added_values_master_miss[i], 18)\n",
    "    df.loc[index, 'age'] = age\n",
    "\n",
    "# For all other missing values, use the previously calculated random values\n",
    "random_values = np.random.normal(loc=0, scale=std_age, size=df['age'].isna().sum())\n",
    "added_values = random_values + mean_age\n",
    "\n",
    "# Update the 'age' column for all other missing values individually\n",
    "other_indices = df.index[~master_miss_mask & df['age'].isna()]\n",
    "for i, index in enumerate(other_indices):\n",
    "    df.loc[index, 'age'] = added_values[i]\n",
    "\n",
    "# Change the datatype of the age column from float to int\n",
    "df['age'] = df['age'].astype(int)\n",
    "\n",
    "# Check if all null values have been replaced\n",
    "print(df['age'].isna().sum())"
   ]
  },
  {
   "cell_type": "code",
   "execution_count": 20,
   "metadata": {},
   "outputs": [
    {
     "name": "stdout",
     "output_type": "stream",
     "text": [
      "0         B5\n",
      "1    C22 C26\n",
      "2    C22 C26\n",
      "3    C22 C26\n",
      "4    C22 C26\n",
      "Name: cabin, dtype: object\n",
      "1304    NaN\n",
      "1305    NaN\n",
      "1306    NaN\n",
      "1307    NaN\n",
      "1308    NaN\n",
      "Name: cabin, dtype: object\n"
     ]
    }
   ],
   "source": [
    "# Next we take a look at the cabin column\n",
    "head = df['cabin'].head(5)\n",
    "tail = df['cabin'].tail(5)\n",
    "print(head)\n",
    "print(tail)"
   ]
  },
  {
   "cell_type": "markdown",
   "metadata": {},
   "source": [
    " As seen in the missingno visualisation more than 70% of rows have a null value in this column.\n",
    " This however does not mean that we should drop this column due to insufficient data, the fact that people don't have a cabin is still valuable information that we can use to\n",
    " train our model. \n",
    " For the people that do have a cabin it is not important to know which exact cabin they had (C22, D7 etc.) so we make this column a boolean, all not null values 1 and all null values 0.\n",
    "\n",
    " Of course there are other methods of dealing with null values, interpolation, forward and backward fill can be other options that should be considered. Sadly these methods would not work well in this case because the neighbouring rows are not correlated to eachother which would mean that changing this data to neighbouring rows would result in inaccurate data and a worse model for predictions. So let's continue with the boolean method we talked about earlier.\n"
   ]
  },
  {
   "cell_type": "code",
   "execution_count": 21,
   "metadata": {},
   "outputs": [
    {
     "name": "stdout",
     "output_type": "stream",
     "text": [
      "0    1\n",
      "1    1\n",
      "2    1\n",
      "3    1\n",
      "4    1\n",
      "Name: cabin, dtype: int64\n",
      "1304    0\n",
      "1305    0\n",
      "1306    0\n",
      "1307    0\n",
      "1308    0\n",
      "Name: cabin, dtype: int64\n"
     ]
    }
   ],
   "source": [
    "# We fill missing values with 0\n",
    "df['cabin'].fillna(0, inplace=True)\n",
    "\n",
    "# Replace non-null values with 1 without having problems because there are non-numerical values\n",
    "df['cabin'] = df['cabin'].apply(lambda x: 1 if x != 0 else x)\n",
    "print(df['cabin'].head(5))\n",
    "print(df['cabin'].tail(5))"
   ]
  },
  {
   "cell_type": "code",
   "execution_count": 22,
   "metadata": {},
   "outputs": [],
   "source": [
    "# There are 2 null values in the embarked column, because it is such a small amount of data we simply change it to the value 'Q'\n",
    "# which stands for Queenstown\n",
    "df['embarked'] = df['embarked'].replace(np.nan, 'Q')"
   ]
  },
  {
   "cell_type": "code",
   "execution_count": 23,
   "metadata": {},
   "outputs": [
    {
     "data": {
      "text/plain": [
       "0"
      ]
     },
     "execution_count": 23,
     "metadata": {},
     "output_type": "execute_result"
    }
   ],
   "source": [
    "# Let's check if this worked and there are no null values left\n",
    "df['embarked'].isna().sum()"
   ]
  },
  {
   "cell_type": "code",
   "execution_count": 24,
   "metadata": {},
   "outputs": [
    {
     "name": "stdout",
     "output_type": "stream",
     "text": [
      "0      2\n",
      "1     11\n",
      "2    NaN\n",
      "3    NaN\n",
      "4    NaN\n",
      "Name: boat, dtype: object\n",
      "1304    NaN\n",
      "1305    NaN\n",
      "1306    NaN\n",
      "1307    NaN\n",
      "1308    NaN\n",
      "Name: boat, dtype: object\n"
     ]
    }
   ],
   "source": [
    "# We take a look at the boat column next\n",
    "head = df['boat'].head(5)\n",
    "tail = df['boat'].tail(5)\n",
    "print(head)\n",
    "print(tail)"
   ]
  },
  {
   "cell_type": "markdown",
   "metadata": {},
   "source": [
    "Like seen in the missingno visualisation and in the head and tail of the database above there are a lot of null values which is logical because a lot of people didn't survive which means they weren't able to get on a boat. Let's see if there are any survivors who did not have a boat or if there are people who did have a boat but still didn't survive."
   ]
  },
  {
   "cell_type": "code",
   "execution_count": 25,
   "metadata": {},
   "outputs": [
    {
     "name": "stdout",
     "output_type": "stream",
     "text": [
      "Amount of people that survived but did not have a boat: 23\n",
      "Amount of people that did not survive but did have a boat: 9\n"
     ]
    }
   ],
   "source": [
    "# We check how many people that did survive still have a null value in the boat column.\n",
    "count = len(df[(df['survived'] == 1) & df['boat'].isna()])\n",
    "print('Amount of people that survived but did not have a boat: ' + str(count))\n",
    "# We see that there are 0 survivors who still have a null value which means that all the null values are of people who did not survive\n",
    "# Let's check this just to be sure\n",
    "count = len(df[(df['survived'] == 0) & df['boat'].notnull()])\n",
    "print('Amount of people that did not survive but did have a boat: ' + str(count))\n"
   ]
  },
  {
   "cell_type": "markdown",
   "metadata": {},
   "source": [
    "As we can see there are still exceptions, if there were none we could've simply used the survived column to change the data in the boat column.\n",
    "The question is now what we will do with the null values in the boat column. We have a lot of options here, drop all rows with null values, interpolation, forward fill and backward fill etc.\n",
    "\n",
    "But just like with the cabin column, the null values still tell us something so dropping the rows would be a bad option, especially since there are so many. Interpolation would not be smart because there isn't a large correlation between neigbouring rows so using neigbouring values would just give us wrong data. This is also why forward fill and backward fill would not work.\n",
    "\n",
    "We decide to simply make a boolean of the row making all not null values 1 and all null values 0. The number or letter that the boat has is not important for the training of the dataset so changing the not null values from (12,D,8,A etc.) to 1 does not matter."
   ]
  },
  {
   "cell_type": "code",
   "execution_count": 26,
   "metadata": {},
   "outputs": [
    {
     "name": "stdout",
     "output_type": "stream",
     "text": [
      "0    1\n",
      "1    1\n",
      "2    0\n",
      "3    0\n",
      "4    0\n",
      "Name: boat, dtype: int64\n",
      "1304    0\n",
      "1305    0\n",
      "1306    0\n",
      "1307    0\n",
      "1308    0\n",
      "Name: boat, dtype: int64\n"
     ]
    }
   ],
   "source": [
    "df['boat'].fillna(0, inplace=True)\n",
    "\n",
    "# Replace non-null values with 1 without having problems because there are non-numerical values\n",
    "df['boat'] = df['boat'].apply(lambda x: 1 if x != 0 else x)\n",
    "print(df['boat'].head(5))\n",
    "print(df['boat'].tail(5))"
   ]
  },
  {
   "cell_type": "code",
   "execution_count": 27,
   "metadata": {},
   "outputs": [
    {
     "name": "stdout",
     "output_type": "stream",
     "text": [
      "0      NaN\n",
      "1      NaN\n",
      "2      NaN\n",
      "3    135.0\n",
      "4      NaN\n",
      "Name: body, dtype: float64\n",
      "1304    328.0\n",
      "1305      NaN\n",
      "1306    304.0\n",
      "1307      NaN\n",
      "1308      NaN\n",
      "Name: body, dtype: float64\n"
     ]
    }
   ],
   "source": [
    "print(df['body'].head(5))\n",
    "print(df['body'].tail(5))"
   ]
  },
  {
   "cell_type": "markdown",
   "metadata": {},
   "source": [
    "The body column has over 90% null values. This is logical because only people that died can have a not null value in this column. Let's check if this is truly the case.\n",
    "Let's also check how many bodies were found in total and the percentage of dead peoples bodies that were found."
   ]
  },
  {
   "cell_type": "code",
   "execution_count": 28,
   "metadata": {},
   "outputs": [
    {
     "name": "stdout",
     "output_type": "stream",
     "text": [
      "Amount of people that did survive but a body was still found: 0\n",
      "Amount of bodies found in total: 120\n",
      "Amount of people that did not survive: 808\n",
      "Percentage of dead peoples bodies that were found:  0.149\n"
     ]
    }
   ],
   "source": [
    "count = len(df[(df['survived'] == 1) & df['body'].notnull()])\n",
    "print('Amount of people that did survive but a body was still found: ' + str(count))\n",
    "\n",
    "count = len(df[df['body'].notnull()])\n",
    "print('Amount of bodies found in total: ' + str(count))\n",
    "\n",
    "total_amount_dead = (df['survived'] == 0).sum()\n",
    "print('Amount of people that did not survive: ' + str(total_amount_dead))\n",
    "\n",
    "percentage = count/total_amount_dead\n",
    "print('Percentage of dead peoples bodies that were found:  ' + str(percentage.round(3)))"
   ]
  },
  {
   "cell_type": "markdown",
   "metadata": {},
   "source": [
    "Again the number that the body was given does not matter and there is no correlation between the neighbouring rows so we change the data to a boolean, 1 for not null and 0 for null values."
   ]
  },
  {
   "cell_type": "code",
   "execution_count": 29,
   "metadata": {},
   "outputs": [
    {
     "name": "stdout",
     "output_type": "stream",
     "text": [
      "0    0\n",
      "1    0\n",
      "2    0\n",
      "3    1\n",
      "4    0\n",
      "Name: body, dtype: int32\n",
      "1304    1\n",
      "1305    0\n",
      "1306    1\n",
      "1307    0\n",
      "1308    0\n",
      "Name: body, dtype: int32\n"
     ]
    }
   ],
   "source": [
    "df['body'].fillna(0, inplace=True)\n",
    "\n",
    "# Replace non-null values with 1 without having problems because there are non-numerical values\n",
    "df['body'] = df['body'].apply(lambda x: 1 if x != 0 else x)\n",
    "# We change the datatype from float to int\n",
    "df['body'] = df['body'].astype(int)\n",
    "print(df['body'].head(5))\n",
    "print(df['body'].tail(5))"
   ]
  },
  {
   "cell_type": "markdown",
   "metadata": {},
   "source": [
    "Lets check the home destination column next."
   ]
  },
  {
   "cell_type": "code",
   "execution_count": 30,
   "metadata": {},
   "outputs": [
    {
     "name": "stdout",
     "output_type": "stream",
     "text": [
      "0                       St Louis, MO\n",
      "1    Montreal, PQ / Chesterville, ON\n",
      "2    Montreal, PQ / Chesterville, ON\n",
      "3    Montreal, PQ / Chesterville, ON\n",
      "4    Montreal, PQ / Chesterville, ON\n",
      "Name: home.dest, dtype: object\n",
      "1304    NaN\n",
      "1305    NaN\n",
      "1306    NaN\n",
      "1307    NaN\n",
      "1308    NaN\n",
      "Name: home.dest, dtype: object\n"
     ]
    }
   ],
   "source": [
    "print(df['home.dest'].head(5))\n",
    "print(df['home.dest'].tail(5))"
   ]
  },
  {
   "cell_type": "markdown",
   "metadata": {},
   "source": [
    "Like seen in the visualisation and the output above there are still a lot of null values. Especially in the 3rd class. Let's visualize this. "
   ]
  },
  {
   "cell_type": "code",
   "execution_count": 31,
   "metadata": {},
   "outputs": [
    {
     "data": {
      "text/plain": [
       "(-1.099999992320727, 1.0999998663551604, -1.09999985568244, 1.0999999113130292)"
      ]
     },
     "execution_count": 31,
     "metadata": {},
     "output_type": "execute_result"
    },
    {
     "data": {
      "image/png": "[encoded data removed]",
      "text/plain": [
       "<Figure size 600x600 with 1 Axes>"
      ]
     },
     "metadata": {},
     "output_type": "display_data"
    }
   ],
   "source": [
    "grouped = df.groupby('pclass')['home.dest'].apply(lambda x: x.isnull().mean())\n",
    "\n",
    "# Create a pie chart\n",
    "plt.figure(figsize=(6, 6))\n",
    "plt.pie(grouped, labels=grouped.index, autopct='%1.1f%%', startangle=140)\n",
    "plt.title('Percentage of Null Values by Class')\n",
    "plt.axis('equal')  # Equal aspect ratio ensures that pie is drawn as a circle.\n"
   ]
  },
  {
   "cell_type": "markdown",
   "metadata": {},
   "source": [
    "We can clearly see that there is a very large difference between the amount of home destinations not known in 1st and 2nd class compared to 3rd class. This changes how many options we have for this column. We cannot leave it is as it is because our model would become biased towards 1st and 2nd class. We cannot drop all null value rows because it would delete 82% of all the people in 3rd class. We cannot fill in random places because than we change our data too much. We cannot look at neigbouring values because neigbouring rows do not have a correlation.\n",
    "\n",
    "Our only option is to drop this column because it can only have a negative impact on our model."
   ]
  },
  {
   "cell_type": "code",
   "execution_count": 32,
   "metadata": {},
   "outputs": [],
   "source": [
    "df.drop('home.dest', axis = 1, inplace = True)\n"
   ]
  },
  {
   "cell_type": "markdown",
   "metadata": {},
   "source": [
    "Let's again have an overall look at our dataframes amount of rows per column"
   ]
  },
  {
   "cell_type": "code",
   "execution_count": 33,
   "metadata": {},
   "outputs": [
    {
     "data": {
      "text/plain": [
       "<Axes: >"
      ]
     },
     "execution_count": 33,
     "metadata": {},
     "output_type": "execute_result"
    },
    {
     "data": {
      "image/png": "[encoded data removed]",
      "text/plain": [
       "<Figure size 2500x1000 with 3 Axes>"
      ]
     },
     "metadata": {},
     "output_type": "display_data"
    }
   ],
   "source": [
    "import missingno as msno \n",
    "msno.bar(df) "
   ]
  },
  {
   "cell_type": "markdown",
   "metadata": {},
   "source": [
    "We can now see that we have fixed all columns which had less values than other columns.\n"
   ]
  },
  {
   "cell_type": "markdown",
   "metadata": {},
   "source": [
    "Let's check the basic datatypes of our columns again."
   ]
  },
  {
   "cell_type": "code",
   "execution_count": 34,
   "metadata": {},
   "outputs": [
    {
     "name": "stdout",
     "output_type": "stream",
     "text": [
      "<class 'pandas.core.frame.DataFrame'>\n",
      "Int64Index: 1304 entries, 0 to 1308\n",
      "Data columns (total 15 columns):\n",
      " #   Column     Non-Null Count  Dtype  \n",
      "---  ------     --------------  -----  \n",
      " 0   pclass     1304 non-null   int64  \n",
      " 1   survived   1304 non-null   int64  \n",
      " 2   sex        1304 non-null   object \n",
      " 3   age        1304 non-null   int32  \n",
      " 4   sibsp      1304 non-null   int64  \n",
      " 5   parch      1304 non-null   int64  \n",
      " 6   ticket     1304 non-null   object \n",
      " 7   fare       1304 non-null   float64\n",
      " 8   cabin      1304 non-null   int64  \n",
      " 9   embarked   1304 non-null   object \n",
      " 10  boat       1304 non-null   int64  \n",
      " 11  body       1304 non-null   int32  \n",
      " 12  firstname  1304 non-null   object \n",
      " 13  title      1304 non-null   object \n",
      " 14  tastname   1304 non-null   object \n",
      "dtypes: float64(1), int32(2), int64(6), object(6)\n",
      "memory usage: 185.1+ KB\n"
     ]
    }
   ],
   "source": [
    "df.info()"
   ]
  },
  {
   "cell_type": "markdown",
   "metadata": {},
   "source": [
    "We see that there are some columns with the wrong datatype. Let's change that."
   ]
  },
  {
   "cell_type": "code",
   "execution_count": 35,
   "metadata": {},
   "outputs": [],
   "source": [
    "df['survived'] = df['survived'].astype(bool)\n",
    "df['boat'] = df['boat'].astype(bool)\n",
    "df['body'] = df['body'].astype(bool)\n",
    "df['embarked'] = str(df['embarked'])"
   ]
  },
  {
   "cell_type": "code",
   "execution_count": 36,
   "metadata": {},
   "outputs": [
    {
     "data": {
      "text/html": [
       "<div>\n",
       "<style scoped>\n",
       "    .dataframe tbody tr th:only-of-type {\n",
       "        vertical-align: middle;\n",
       "    }\n",
       "\n",
       "    .dataframe tbody tr th {\n",
       "        vertical-align: top;\n",
       "    }\n",
       "\n",
       "    .dataframe thead th {\n",
       "        text-align: right;\n",
       "    }\n",
       "</style>\n",
       "<table border=\"1\" class=\"dataframe\">\n",
       "  <thead>\n",
       "    <tr style=\"text-align: right;\">\n",
       "      <th></th>\n",
       "      <th>pclass</th>\n",
       "      <th>survived</th>\n",
       "      <th>sex</th>\n",
       "      <th>age</th>\n",
       "      <th>sibsp</th>\n",
       "      <th>parch</th>\n",
       "      <th>ticket</th>\n",
       "      <th>fare</th>\n",
       "      <th>cabin</th>\n",
       "      <th>embarked</th>\n",
       "      <th>boat</th>\n",
       "      <th>body</th>\n",
       "      <th>firstname</th>\n",
       "      <th>title</th>\n",
       "      <th>tastname</th>\n",
       "    </tr>\n",
       "  </thead>\n",
       "  <tbody>\n",
       "    <tr>\n",
       "      <th>0</th>\n",
       "      <td>1</td>\n",
       "      <td>True</td>\n",
       "      <td>1</td>\n",
       "      <td>18</td>\n",
       "      <td>0</td>\n",
       "      <td>0</td>\n",
       "      <td>24160</td>\n",
       "      <td>211.3375</td>\n",
       "      <td>1</td>\n",
       "      <td>0       S\\n1       S\\n2       S\\n3       S\\n4 ...</td>\n",
       "      <td>True</td>\n",
       "      <td>False</td>\n",
       "      <td>Elisabeth Walton</td>\n",
       "      <td>Miss</td>\n",
       "      <td>Allen</td>\n",
       "    </tr>\n",
       "    <tr>\n",
       "      <th>1</th>\n",
       "      <td>1</td>\n",
       "      <td>True</td>\n",
       "      <td>2</td>\n",
       "      <td>18</td>\n",
       "      <td>1</td>\n",
       "      <td>2</td>\n",
       "      <td>113781</td>\n",
       "      <td>151.5500</td>\n",
       "      <td>1</td>\n",
       "      <td>0       S\\n1       S\\n2       S\\n3       S\\n4 ...</td>\n",
       "      <td>True</td>\n",
       "      <td>False</td>\n",
       "      <td>Hudson Trevor</td>\n",
       "      <td>Master</td>\n",
       "      <td>Allison</td>\n",
       "    </tr>\n",
       "    <tr>\n",
       "      <th>2</th>\n",
       "      <td>1</td>\n",
       "      <td>False</td>\n",
       "      <td>1</td>\n",
       "      <td>18</td>\n",
       "      <td>1</td>\n",
       "      <td>2</td>\n",
       "      <td>113781</td>\n",
       "      <td>151.5500</td>\n",
       "      <td>1</td>\n",
       "      <td>0       S\\n1       S\\n2       S\\n3       S\\n4 ...</td>\n",
       "      <td>False</td>\n",
       "      <td>False</td>\n",
       "      <td>Helen Loraine</td>\n",
       "      <td>Miss</td>\n",
       "      <td>Allison</td>\n",
       "    </tr>\n",
       "    <tr>\n",
       "      <th>3</th>\n",
       "      <td>1</td>\n",
       "      <td>False</td>\n",
       "      <td>2</td>\n",
       "      <td>30</td>\n",
       "      <td>1</td>\n",
       "      <td>2</td>\n",
       "      <td>113781</td>\n",
       "      <td>151.5500</td>\n",
       "      <td>1</td>\n",
       "      <td>0       S\\n1       S\\n2       S\\n3       S\\n4 ...</td>\n",
       "      <td>False</td>\n",
       "      <td>True</td>\n",
       "      <td>Hudson Joshua Creighton</td>\n",
       "      <td>Mr</td>\n",
       "      <td>Allison</td>\n",
       "    </tr>\n",
       "    <tr>\n",
       "      <th>4</th>\n",
       "      <td>1</td>\n",
       "      <td>False</td>\n",
       "      <td>1</td>\n",
       "      <td>25</td>\n",
       "      <td>1</td>\n",
       "      <td>2</td>\n",
       "      <td>113781</td>\n",
       "      <td>151.5500</td>\n",
       "      <td>1</td>\n",
       "      <td>0       S\\n1       S\\n2       S\\n3       S\\n4 ...</td>\n",
       "      <td>False</td>\n",
       "      <td>False</td>\n",
       "      <td>Hudson J C (Bessie Waldo Daniels)</td>\n",
       "      <td>Mrs</td>\n",
       "      <td>Allison</td>\n",
       "    </tr>\n",
       "    <tr>\n",
       "      <th>...</th>\n",
       "      <td>...</td>\n",
       "      <td>...</td>\n",
       "      <td>...</td>\n",
       "      <td>...</td>\n",
       "      <td>...</td>\n",
       "      <td>...</td>\n",
       "      <td>...</td>\n",
       "      <td>...</td>\n",
       "      <td>...</td>\n",
       "      <td>...</td>\n",
       "      <td>...</td>\n",
       "      <td>...</td>\n",
       "      <td>...</td>\n",
       "      <td>...</td>\n",
       "      <td>...</td>\n",
       "    </tr>\n",
       "    <tr>\n",
       "      <th>1304</th>\n",
       "      <td>3</td>\n",
       "      <td>False</td>\n",
       "      <td>1</td>\n",
       "      <td>18</td>\n",
       "      <td>1</td>\n",
       "      <td>0</td>\n",
       "      <td>2665</td>\n",
       "      <td>14.4542</td>\n",
       "      <td>0</td>\n",
       "      <td>0       S\\n1       S\\n2       S\\n3       S\\n4 ...</td>\n",
       "      <td>False</td>\n",
       "      <td>True</td>\n",
       "      <td>Hileni</td>\n",
       "      <td>Miss</td>\n",
       "      <td>Zabour</td>\n",
       "    </tr>\n",
       "    <tr>\n",
       "      <th>1305</th>\n",
       "      <td>3</td>\n",
       "      <td>False</td>\n",
       "      <td>1</td>\n",
       "      <td>18</td>\n",
       "      <td>1</td>\n",
       "      <td>0</td>\n",
       "      <td>2665</td>\n",
       "      <td>14.4542</td>\n",
       "      <td>0</td>\n",
       "      <td>0       S\\n1       S\\n2       S\\n3       S\\n4 ...</td>\n",
       "      <td>False</td>\n",
       "      <td>False</td>\n",
       "      <td>Thamine</td>\n",
       "      <td>Miss</td>\n",
       "      <td>Zabour</td>\n",
       "    </tr>\n",
       "    <tr>\n",
       "      <th>1306</th>\n",
       "      <td>3</td>\n",
       "      <td>False</td>\n",
       "      <td>2</td>\n",
       "      <td>26</td>\n",
       "      <td>0</td>\n",
       "      <td>0</td>\n",
       "      <td>2656</td>\n",
       "      <td>7.2250</td>\n",
       "      <td>0</td>\n",
       "      <td>0       S\\n1       S\\n2       S\\n3       S\\n4 ...</td>\n",
       "      <td>False</td>\n",
       "      <td>True</td>\n",
       "      <td>Mapriededer</td>\n",
       "      <td>Mr</td>\n",
       "      <td>Zakarian</td>\n",
       "    </tr>\n",
       "    <tr>\n",
       "      <th>1307</th>\n",
       "      <td>3</td>\n",
       "      <td>False</td>\n",
       "      <td>2</td>\n",
       "      <td>27</td>\n",
       "      <td>0</td>\n",
       "      <td>0</td>\n",
       "      <td>2670</td>\n",
       "      <td>7.2250</td>\n",
       "      <td>0</td>\n",
       "      <td>0       S\\n1       S\\n2       S\\n3       S\\n4 ...</td>\n",
       "      <td>False</td>\n",
       "      <td>False</td>\n",
       "      <td>Ortin</td>\n",
       "      <td>Mr</td>\n",
       "      <td>Zakarian</td>\n",
       "    </tr>\n",
       "    <tr>\n",
       "      <th>1308</th>\n",
       "      <td>3</td>\n",
       "      <td>False</td>\n",
       "      <td>2</td>\n",
       "      <td>29</td>\n",
       "      <td>0</td>\n",
       "      <td>0</td>\n",
       "      <td>315082</td>\n",
       "      <td>7.8750</td>\n",
       "      <td>0</td>\n",
       "      <td>0       S\\n1       S\\n2       S\\n3       S\\n4 ...</td>\n",
       "      <td>False</td>\n",
       "      <td>False</td>\n",
       "      <td>Leo</td>\n",
       "      <td>Mr</td>\n",
       "      <td>Zimmerman</td>\n",
       "    </tr>\n",
       "  </tbody>\n",
       "</table>\n",
       "<p>1304 rows × 15 columns</p>\n",
       "</div>"
      ],
      "text/plain": [
       "      pclass  survived  sex  age  sibsp  parch  ticket      fare  cabin  \\\n",
       "0          1      True    1   18      0      0   24160  211.3375      1   \n",
       "1          1      True    2   18      1      2  113781  151.5500      1   \n",
       "2          1     False    1   18      1      2  113781  151.5500      1   \n",
       "3          1     False    2   30      1      2  113781  151.5500      1   \n",
       "4          1     False    1   25      1      2  113781  151.5500      1   \n",
       "...      ...       ...  ...  ...    ...    ...     ...       ...    ...   \n",
       "1304       3     False    1   18      1      0    2665   14.4542      0   \n",
       "1305       3     False    1   18      1      0    2665   14.4542      0   \n",
       "1306       3     False    2   26      0      0    2656    7.2250      0   \n",
       "1307       3     False    2   27      0      0    2670    7.2250      0   \n",
       "1308       3     False    2   29      0      0  315082    7.8750      0   \n",
       "\n",
       "                                               embarked   boat   body  \\\n",
       "0     0       S\\n1       S\\n2       S\\n3       S\\n4 ...   True  False   \n",
       "1     0       S\\n1       S\\n2       S\\n3       S\\n4 ...   True  False   \n",
       "2     0       S\\n1       S\\n2       S\\n3       S\\n4 ...  False  False   \n",
       "3     0       S\\n1       S\\n2       S\\n3       S\\n4 ...  False   True   \n",
       "4     0       S\\n1       S\\n2       S\\n3       S\\n4 ...  False  False   \n",
       "...                                                 ...    ...    ...   \n",
       "1304  0       S\\n1       S\\n2       S\\n3       S\\n4 ...  False   True   \n",
       "1305  0       S\\n1       S\\n2       S\\n3       S\\n4 ...  False  False   \n",
       "1306  0       S\\n1       S\\n2       S\\n3       S\\n4 ...  False   True   \n",
       "1307  0       S\\n1       S\\n2       S\\n3       S\\n4 ...  False  False   \n",
       "1308  0       S\\n1       S\\n2       S\\n3       S\\n4 ...  False  False   \n",
       "\n",
       "                               firstname   title   tastname  \n",
       "0                       Elisabeth Walton    Miss      Allen  \n",
       "1                          Hudson Trevor  Master    Allison  \n",
       "2                          Helen Loraine    Miss    Allison  \n",
       "3                Hudson Joshua Creighton      Mr    Allison  \n",
       "4      Hudson J C (Bessie Waldo Daniels)     Mrs    Allison  \n",
       "...                                  ...     ...        ...  \n",
       "1304                              Hileni    Miss     Zabour  \n",
       "1305                             Thamine    Miss     Zabour  \n",
       "1306                         Mapriededer      Mr   Zakarian  \n",
       "1307                               Ortin      Mr   Zakarian  \n",
       "1308                                 Leo      Mr  Zimmerman  \n",
       "\n",
       "[1304 rows x 15 columns]"
      ]
     },
     "execution_count": 36,
     "metadata": {},
     "output_type": "execute_result"
    }
   ],
   "source": [
    "encoder = ce.OrdinalEncoder(cols=['sex'])\n",
    "df_encoded = encoder.fit_transform(df)\n",
    "df_encoded\n",
    "# 1 = female, 2 = male"
   ]
  },
  {
   "cell_type": "code",
   "execution_count": 37,
   "metadata": {},
   "outputs": [
    {
     "data": {
      "text/plain": [
       "<seaborn.axisgrid.FacetGrid at 0x243c23f5270>"
      ]
     },
     "execution_count": 37,
     "metadata": {},
     "output_type": "execute_result"
    },
    {
     "data": {
      "image/png": "[encoded data removed]",
      "text/plain": [
       "<Figure size 584.875x500 with 1 Axes>"
      ]
     },
     "metadata": {},
     "output_type": "display_data"
    }
   ],
   "source": [
    "sns.catplot(x='sex', hue = 'survived', kind='count', data= df)\n",
    "#sns.catplot(x='survived', hue = 'sex', kind='count', data= df)"
   ]
  },
  {
   "cell_type": "code",
   "execution_count": 38,
   "metadata": {},
   "outputs": [
    {
     "data": {
      "image/png": "[encoded data removed]",
      "text/plain": [
       "<Figure size 700x700 with 1 Axes>"
      ]
     },
     "metadata": {},
     "output_type": "display_data"
    }
   ],
   "source": [
    "survived_sex= df.groupby('sex')['survived'].sum()\n",
    "plt.figure(figsize=(7,7))\n",
    "plt.title('Gender survived')\n",
    "plt.pie(survived_sex,labels=['female','male'],autopct='%1.1f%%', textprops={'fontsize':13})\n",
    "plt.show()"
   ]
  },
  {
   "cell_type": "markdown",
   "metadata": {},
   "source": [
    "# Pycaret model"
   ]
  },
  {
   "cell_type": "markdown",
   "metadata": {},
   "source": [
    "Install needed modules to use pycaret."
   ]
  },
  {
   "cell_type": "code",
   "execution_count": 39,
   "metadata": {},
   "outputs": [],
   "source": [
    "#!pip install pandas numpy\n",
    "#!pip install pycaret"
   ]
  },
  {
   "cell_type": "markdown",
   "metadata": {},
   "source": [
    "Import libraries."
   ]
  },
  {
   "cell_type": "code",
   "execution_count": 40,
   "metadata": {},
   "outputs": [],
   "source": [
    "from pycaret.classification import *"
   ]
  },
  {
   "cell_type": "markdown",
   "metadata": {},
   "source": [
    "## Setup the Pycaret environment\n",
    "Initialize the training environment and create the transformation pipeline to prepare the data for modeling and deployment. Target is set on survived because this is what we want to predict."
   ]
  },
  {
   "cell_type": "code",
   "execution_count": 41,
   "metadata": {},
   "outputs": [
    {
     "data": {
      "text/html": [
       "<style type=\"text/css\">\n",
       "#T_be918_row9_col1 {\n",
       "  background-color: lightgreen;\n",
       "}\n",
       "</style>\n",
       "<table id=\"T_be918\">\n",
       "  <thead>\n",
       "    <tr>\n",
       "      <th class=\"blank level0\" >&nbsp;</th>\n",
       "      <th id=\"T_be918_level0_col0\" class=\"col_heading level0 col0\" >Description</th>\n",
       "      <th id=\"T_be918_level0_col1\" class=\"col_heading level0 col1\" >Value</th>\n",
       "    </tr>\n",
       "  </thead>\n",
       "  <tbody>\n",
       "    <tr>\n",
       "      <th id=\"T_be918_level0_row0\" class=\"row_heading level0 row0\" >0</th>\n",
       "      <td id=\"T_be918_row0_col0\" class=\"data row0 col0\" >Session id</td>\n",
       "      <td id=\"T_be918_row0_col1\" class=\"data row0 col1\" >123</td>\n",
       "    </tr>\n",
       "    <tr>\n",
       "      <th id=\"T_be918_level0_row1\" class=\"row_heading level0 row1\" >1</th>\n",
       "      <td id=\"T_be918_row1_col0\" class=\"data row1 col0\" >Target</td>\n",
       "      <td id=\"T_be918_row1_col1\" class=\"data row1 col1\" >survived</td>\n",
       "    </tr>\n",
       "    <tr>\n",
       "      <th id=\"T_be918_level0_row2\" class=\"row_heading level0 row2\" >2</th>\n",
       "      <td id=\"T_be918_row2_col0\" class=\"data row2 col0\" >Target type</td>\n",
       "      <td id=\"T_be918_row2_col1\" class=\"data row2 col1\" >Binary</td>\n",
       "    </tr>\n",
       "    <tr>\n",
       "      <th id=\"T_be918_level0_row3\" class=\"row_heading level0 row3\" >3</th>\n",
       "      <td id=\"T_be918_row3_col0\" class=\"data row3 col0\" >Original data shape</td>\n",
       "      <td id=\"T_be918_row3_col1\" class=\"data row3 col1\" >(1304, 15)</td>\n",
       "    </tr>\n",
       "    <tr>\n",
       "      <th id=\"T_be918_level0_row4\" class=\"row_heading level0 row4\" >4</th>\n",
       "      <td id=\"T_be918_row4_col0\" class=\"data row4 col0\" >Transformed data shape</td>\n",
       "      <td id=\"T_be918_row4_col1\" class=\"data row4 col1\" >(1304, 20)</td>\n",
       "    </tr>\n",
       "    <tr>\n",
       "      <th id=\"T_be918_level0_row5\" class=\"row_heading level0 row5\" >5</th>\n",
       "      <td id=\"T_be918_row5_col0\" class=\"data row5 col0\" >Transformed train set shape</td>\n",
       "      <td id=\"T_be918_row5_col1\" class=\"data row5 col1\" >(912, 20)</td>\n",
       "    </tr>\n",
       "    <tr>\n",
       "      <th id=\"T_be918_level0_row6\" class=\"row_heading level0 row6\" >6</th>\n",
       "      <td id=\"T_be918_row6_col0\" class=\"data row6 col0\" >Transformed test set shape</td>\n",
       "      <td id=\"T_be918_row6_col1\" class=\"data row6 col1\" >(392, 20)</td>\n",
       "    </tr>\n",
       "    <tr>\n",
       "      <th id=\"T_be918_level0_row7\" class=\"row_heading level0 row7\" >7</th>\n",
       "      <td id=\"T_be918_row7_col0\" class=\"data row7 col0\" >Numeric features</td>\n",
       "      <td id=\"T_be918_row7_col1\" class=\"data row7 col1\" >7</td>\n",
       "    </tr>\n",
       "    <tr>\n",
       "      <th id=\"T_be918_level0_row8\" class=\"row_heading level0 row8\" >8</th>\n",
       "      <td id=\"T_be918_row8_col0\" class=\"data row8 col0\" >Categorical features</td>\n",
       "      <td id=\"T_be918_row8_col1\" class=\"data row8 col1\" >5</td>\n",
       "    </tr>\n",
       "    <tr>\n",
       "      <th id=\"T_be918_level0_row9\" class=\"row_heading level0 row9\" >9</th>\n",
       "      <td id=\"T_be918_row9_col0\" class=\"data row9 col0\" >Preprocess</td>\n",
       "      <td id=\"T_be918_row9_col1\" class=\"data row9 col1\" >True</td>\n",
       "    </tr>\n",
       "    <tr>\n",
       "      <th id=\"T_be918_level0_row10\" class=\"row_heading level0 row10\" >10</th>\n",
       "      <td id=\"T_be918_row10_col0\" class=\"data row10 col0\" >Imputation type</td>\n",
       "      <td id=\"T_be918_row10_col1\" class=\"data row10 col1\" >simple</td>\n",
       "    </tr>\n",
       "    <tr>\n",
       "      <th id=\"T_be918_level0_row11\" class=\"row_heading level0 row11\" >11</th>\n",
       "      <td id=\"T_be918_row11_col0\" class=\"data row11 col0\" >Numeric imputation</td>\n",
       "      <td id=\"T_be918_row11_col1\" class=\"data row11 col1\" >mean</td>\n",
       "    </tr>\n",
       "    <tr>\n",
       "      <th id=\"T_be918_level0_row12\" class=\"row_heading level0 row12\" >12</th>\n",
       "      <td id=\"T_be918_row12_col0\" class=\"data row12 col0\" >Categorical imputation</td>\n",
       "      <td id=\"T_be918_row12_col1\" class=\"data row12 col1\" >mode</td>\n",
       "    </tr>\n",
       "    <tr>\n",
       "      <th id=\"T_be918_level0_row13\" class=\"row_heading level0 row13\" >13</th>\n",
       "      <td id=\"T_be918_row13_col0\" class=\"data row13 col0\" >Maximum one-hot encoding</td>\n",
       "      <td id=\"T_be918_row13_col1\" class=\"data row13 col1\" >25</td>\n",
       "    </tr>\n",
       "    <tr>\n",
       "      <th id=\"T_be918_level0_row14\" class=\"row_heading level0 row14\" >14</th>\n",
       "      <td id=\"T_be918_row14_col0\" class=\"data row14 col0\" >Encoding method</td>\n",
       "      <td id=\"T_be918_row14_col1\" class=\"data row14 col1\" >None</td>\n",
       "    </tr>\n",
       "    <tr>\n",
       "      <th id=\"T_be918_level0_row15\" class=\"row_heading level0 row15\" >15</th>\n",
       "      <td id=\"T_be918_row15_col0\" class=\"data row15 col0\" >Fold Generator</td>\n",
       "      <td id=\"T_be918_row15_col1\" class=\"data row15 col1\" >StratifiedKFold</td>\n",
       "    </tr>\n",
       "    <tr>\n",
       "      <th id=\"T_be918_level0_row16\" class=\"row_heading level0 row16\" >16</th>\n",
       "      <td id=\"T_be918_row16_col0\" class=\"data row16 col0\" >Fold Number</td>\n",
       "      <td id=\"T_be918_row16_col1\" class=\"data row16 col1\" >10</td>\n",
       "    </tr>\n",
       "    <tr>\n",
       "      <th id=\"T_be918_level0_row17\" class=\"row_heading level0 row17\" >17</th>\n",
       "      <td id=\"T_be918_row17_col0\" class=\"data row17 col0\" >CPU Jobs</td>\n",
       "      <td id=\"T_be918_row17_col1\" class=\"data row17 col1\" >-1</td>\n",
       "    </tr>\n",
       "    <tr>\n",
       "      <th id=\"T_be918_level0_row18\" class=\"row_heading level0 row18\" >18</th>\n",
       "      <td id=\"T_be918_row18_col0\" class=\"data row18 col0\" >Use GPU</td>\n",
       "      <td id=\"T_be918_row18_col1\" class=\"data row18 col1\" >False</td>\n",
       "    </tr>\n",
       "    <tr>\n",
       "      <th id=\"T_be918_level0_row19\" class=\"row_heading level0 row19\" >19</th>\n",
       "      <td id=\"T_be918_row19_col0\" class=\"data row19 col0\" >Log Experiment</td>\n",
       "      <td id=\"T_be918_row19_col1\" class=\"data row19 col1\" >False</td>\n",
       "    </tr>\n",
       "    <tr>\n",
       "      <th id=\"T_be918_level0_row20\" class=\"row_heading level0 row20\" >20</th>\n",
       "      <td id=\"T_be918_row20_col0\" class=\"data row20 col0\" >Experiment Name</td>\n",
       "      <td id=\"T_be918_row20_col1\" class=\"data row20 col1\" >clf-default-name</td>\n",
       "    </tr>\n",
       "    <tr>\n",
       "      <th id=\"T_be918_level0_row21\" class=\"row_heading level0 row21\" >21</th>\n",
       "      <td id=\"T_be918_row21_col0\" class=\"data row21 col0\" >USI</td>\n",
       "      <td id=\"T_be918_row21_col1\" class=\"data row21 col1\" >b1d6</td>\n",
       "    </tr>\n",
       "  </tbody>\n",
       "</table>\n"
      ],
      "text/plain": [
       "<pandas.io.formats.style.Styler at 0x243c71d7f70>"
      ]
     },
     "metadata": {},
     "output_type": "display_data"
    }
   ],
   "source": [
    "\n",
    "s = setup(df_encoded, target = 'survived', session_id = 123)"
   ]
  },
  {
   "cell_type": "markdown",
   "metadata": {},
   "source": [
    "## Compare the models\n",
    "Here we compare the outcomes of all the models. Every highest score is marked in yellow. We can see that Logistic Regression scores overall the best."
   ]
  },
  {
   "cell_type": "code",
   "execution_count": 42,
   "metadata": {},
   "outputs": [
    {
     "data": {
      "text/html": [
       "<div>\n",
       "<style scoped>\n",
       "    .dataframe tbody tr th:only-of-type {\n",
       "        vertical-align: middle;\n",
       "    }\n",
       "\n",
       "    .dataframe tbody tr th {\n",
       "        vertical-align: top;\n",
       "    }\n",
       "\n",
       "    .dataframe thead th {\n",
       "        text-align: right;\n",
       "    }\n",
       "</style>\n",
       "<table border=\"1\" class=\"dataframe\">\n",
       "  <thead>\n",
       "    <tr style=\"text-align: right;\">\n",
       "      <th></th>\n",
       "      <th></th>\n",
       "      <th></th>\n",
       "    </tr>\n",
       "    <tr>\n",
       "      <th></th>\n",
       "      <th></th>\n",
       "      <th></th>\n",
       "    </tr>\n",
       "  </thead>\n",
       "  <tbody>\n",
       "    <tr>\n",
       "      <th>Initiated</th>\n",
       "      <td>. . . . . . . . . . . . . . . . . .</td>\n",
       "      <td>20:34:19</td>\n",
       "    </tr>\n",
       "    <tr>\n",
       "      <th>Status</th>\n",
       "      <td>. . . . . . . . . . . . . . . . . .</td>\n",
       "      <td>Fitting 10 Folds</td>\n",
       "    </tr>\n",
       "    <tr>\n",
       "      <th>Estimator</th>\n",
       "      <td>. . . . . . . . . . . . . . . . . .</td>\n",
       "      <td>Logistic Regression</td>\n",
       "    </tr>\n",
       "  </tbody>\n",
       "</table>\n",
       "</div>"
      ],
      "text/plain": [
       "                                                                   \n",
       "                                                                   \n",
       "Initiated  . . . . . . . . . . . . . . . . . .             20:34:19\n",
       "Status     . . . . . . . . . . . . . . . . . .     Fitting 10 Folds\n",
       "Estimator  . . . . . . . . . . . . . . . . . .  Logistic Regression"
      ]
     },
     "metadata": {},
     "output_type": "display_data"
    },
    {
     "data": {
      "text/html": [
       "<style type=\"text/css\">\n",
       "#T_ac5c2 th {\n",
       "  text-align: left;\n",
       "}\n",
       "#T_ac5c2_row0_col0, #T_ac5c2_row0_col3, #T_ac5c2_row1_col0, #T_ac5c2_row1_col2, #T_ac5c2_row1_col3, #T_ac5c2_row2_col0, #T_ac5c2_row2_col1, #T_ac5c2_row2_col2, #T_ac5c2_row2_col3, #T_ac5c2_row2_col4, #T_ac5c2_row2_col5, #T_ac5c2_row2_col6, #T_ac5c2_row2_col7, #T_ac5c2_row3_col0, #T_ac5c2_row3_col1, #T_ac5c2_row3_col2, #T_ac5c2_row3_col4, #T_ac5c2_row3_col5, #T_ac5c2_row3_col6, #T_ac5c2_row3_col7, #T_ac5c2_row4_col0, #T_ac5c2_row4_col1, #T_ac5c2_row4_col2, #T_ac5c2_row4_col3, #T_ac5c2_row4_col4, #T_ac5c2_row4_col5, #T_ac5c2_row4_col6, #T_ac5c2_row4_col7, #T_ac5c2_row5_col0, #T_ac5c2_row5_col1, #T_ac5c2_row5_col2, #T_ac5c2_row5_col3, #T_ac5c2_row5_col4, #T_ac5c2_row5_col5, #T_ac5c2_row5_col6, #T_ac5c2_row5_col7, #T_ac5c2_row6_col0, #T_ac5c2_row6_col1, #T_ac5c2_row6_col2, #T_ac5c2_row6_col3, #T_ac5c2_row6_col4, #T_ac5c2_row6_col5, #T_ac5c2_row6_col6, #T_ac5c2_row6_col7, #T_ac5c2_row7_col0, #T_ac5c2_row7_col1, #T_ac5c2_row7_col2, #T_ac5c2_row7_col3, #T_ac5c2_row7_col4, #T_ac5c2_row7_col5, #T_ac5c2_row7_col6, #T_ac5c2_row7_col7, #T_ac5c2_row8_col0, #T_ac5c2_row8_col1, #T_ac5c2_row8_col2, #T_ac5c2_row8_col3, #T_ac5c2_row8_col4, #T_ac5c2_row8_col5, #T_ac5c2_row8_col6, #T_ac5c2_row8_col7, #T_ac5c2_row9_col0, #T_ac5c2_row9_col1, #T_ac5c2_row9_col2, #T_ac5c2_row9_col3, #T_ac5c2_row9_col4, #T_ac5c2_row9_col5, #T_ac5c2_row9_col6, #T_ac5c2_row9_col7, #T_ac5c2_row10_col0, #T_ac5c2_row10_col1, #T_ac5c2_row10_col2, #T_ac5c2_row10_col3, #T_ac5c2_row10_col4, #T_ac5c2_row10_col5, #T_ac5c2_row10_col6, #T_ac5c2_row10_col7, #T_ac5c2_row11_col0, #T_ac5c2_row11_col1, #T_ac5c2_row11_col2, #T_ac5c2_row11_col3, #T_ac5c2_row11_col4, #T_ac5c2_row11_col5, #T_ac5c2_row11_col6, #T_ac5c2_row11_col7, #T_ac5c2_row12_col0, #T_ac5c2_row12_col1, #T_ac5c2_row12_col2, #T_ac5c2_row12_col3, #T_ac5c2_row12_col4, #T_ac5c2_row12_col5, #T_ac5c2_row12_col6, #T_ac5c2_row12_col7 {\n",
       "  text-align: left;\n",
       "}\n",
       "#T_ac5c2_row0_col1, #T_ac5c2_row0_col2, #T_ac5c2_row0_col4, #T_ac5c2_row0_col5, #T_ac5c2_row0_col6, #T_ac5c2_row0_col7, #T_ac5c2_row1_col1, #T_ac5c2_row1_col4, #T_ac5c2_row1_col5, #T_ac5c2_row1_col6, #T_ac5c2_row1_col7, #T_ac5c2_row3_col3 {\n",
       "  text-align: left;\n",
       "  background-color: yellow;\n",
       "}\n",
       "#T_ac5c2_row0_col8, #T_ac5c2_row4_col8, #T_ac5c2_row5_col8, #T_ac5c2_row6_col8, #T_ac5c2_row7_col8, #T_ac5c2_row8_col8, #T_ac5c2_row9_col8, #T_ac5c2_row11_col8, #T_ac5c2_row12_col8 {\n",
       "  text-align: left;\n",
       "  background-color: lightgrey;\n",
       "}\n",
       "#T_ac5c2_row1_col8, #T_ac5c2_row2_col8, #T_ac5c2_row3_col8, #T_ac5c2_row10_col8 {\n",
       "  text-align: left;\n",
       "  background-color: yellow;\n",
       "  background-color: lightgrey;\n",
       "}\n",
       "</style>\n",
       "<table id=\"T_ac5c2\">\n",
       "  <thead>\n",
       "    <tr>\n",
       "      <th class=\"blank level0\" >&nbsp;</th>\n",
       "      <th id=\"T_ac5c2_level0_col0\" class=\"col_heading level0 col0\" >Model</th>\n",
       "      <th id=\"T_ac5c2_level0_col1\" class=\"col_heading level0 col1\" >Accuracy</th>\n",
       "      <th id=\"T_ac5c2_level0_col2\" class=\"col_heading level0 col2\" >AUC</th>\n",
       "      <th id=\"T_ac5c2_level0_col3\" class=\"col_heading level0 col3\" >Recall</th>\n",
       "      <th id=\"T_ac5c2_level0_col4\" class=\"col_heading level0 col4\" >Prec.</th>\n",
       "      <th id=\"T_ac5c2_level0_col5\" class=\"col_heading level0 col5\" >F1</th>\n",
       "      <th id=\"T_ac5c2_level0_col6\" class=\"col_heading level0 col6\" >Kappa</th>\n",
       "      <th id=\"T_ac5c2_level0_col7\" class=\"col_heading level0 col7\" >MCC</th>\n",
       "      <th id=\"T_ac5c2_level0_col8\" class=\"col_heading level0 col8\" >TT (Sec)</th>\n",
       "    </tr>\n",
       "  </thead>\n",
       "  <tbody>\n",
       "    <tr>\n",
       "      <th id=\"T_ac5c2_level0_row0\" class=\"row_heading level0 row0\" >lr</th>\n",
       "      <td id=\"T_ac5c2_row0_col0\" class=\"data row0 col0\" >Logistic Regression</td>\n",
       "      <td id=\"T_ac5c2_row0_col1\" class=\"data row0 col1\" >0.9791</td>\n",
       "      <td id=\"T_ac5c2_row0_col2\" class=\"data row0 col2\" >0.9938</td>\n",
       "      <td id=\"T_ac5c2_row0_col3\" class=\"data row0 col3\" >0.9566</td>\n",
       "      <td id=\"T_ac5c2_row0_col4\" class=\"data row0 col4\" >0.9884</td>\n",
       "      <td id=\"T_ac5c2_row0_col5\" class=\"data row0 col5\" >0.9719</td>\n",
       "      <td id=\"T_ac5c2_row0_col6\" class=\"data row0 col6\" >0.9554</td>\n",
       "      <td id=\"T_ac5c2_row0_col7\" class=\"data row0 col7\" >0.9561</td>\n",
       "      <td id=\"T_ac5c2_row0_col8\" class=\"data row0 col8\" >0.3880</td>\n",
       "    </tr>\n",
       "    <tr>\n",
       "      <th id=\"T_ac5c2_level0_row1\" class=\"row_heading level0 row1\" >ridge</th>\n",
       "      <td id=\"T_ac5c2_row1_col0\" class=\"data row1 col0\" >Ridge Classifier</td>\n",
       "      <td id=\"T_ac5c2_row1_col1\" class=\"data row1 col1\" >0.9791</td>\n",
       "      <td id=\"T_ac5c2_row1_col2\" class=\"data row1 col2\" >0.0000</td>\n",
       "      <td id=\"T_ac5c2_row1_col3\" class=\"data row1 col3\" >0.9566</td>\n",
       "      <td id=\"T_ac5c2_row1_col4\" class=\"data row1 col4\" >0.9884</td>\n",
       "      <td id=\"T_ac5c2_row1_col5\" class=\"data row1 col5\" >0.9719</td>\n",
       "      <td id=\"T_ac5c2_row1_col6\" class=\"data row1 col6\" >0.9554</td>\n",
       "      <td id=\"T_ac5c2_row1_col7\" class=\"data row1 col7\" >0.9561</td>\n",
       "      <td id=\"T_ac5c2_row1_col8\" class=\"data row1 col8\" >0.0210</td>\n",
       "    </tr>\n",
       "    <tr>\n",
       "      <th id=\"T_ac5c2_level0_row2\" class=\"row_heading level0 row2\" >lda</th>\n",
       "      <td id=\"T_ac5c2_row2_col0\" class=\"data row2 col0\" >Linear Discriminant Analysis</td>\n",
       "      <td id=\"T_ac5c2_row2_col1\" class=\"data row2 col1\" >0.9375</td>\n",
       "      <td id=\"T_ac5c2_row2_col2\" class=\"data row2 col2\" >0.9745</td>\n",
       "      <td id=\"T_ac5c2_row2_col3\" class=\"data row2 col3\" >0.8703</td>\n",
       "      <td id=\"T_ac5c2_row2_col4\" class=\"data row2 col4\" >0.9635</td>\n",
       "      <td id=\"T_ac5c2_row2_col5\" class=\"data row2 col5\" >0.9134</td>\n",
       "      <td id=\"T_ac5c2_row2_col6\" class=\"data row2 col6\" >0.8647</td>\n",
       "      <td id=\"T_ac5c2_row2_col7\" class=\"data row2 col7\" >0.8688</td>\n",
       "      <td id=\"T_ac5c2_row2_col8\" class=\"data row2 col8\" >0.0210</td>\n",
       "    </tr>\n",
       "    <tr>\n",
       "      <th id=\"T_ac5c2_level0_row3\" class=\"row_heading level0 row3\" >nb</th>\n",
       "      <td id=\"T_ac5c2_row3_col0\" class=\"data row3 col0\" >Naive Bayes</td>\n",
       "      <td id=\"T_ac5c2_row3_col1\" class=\"data row3 col1\" >0.9342</td>\n",
       "      <td id=\"T_ac5c2_row3_col2\" class=\"data row3 col2\" >0.9806</td>\n",
       "      <td id=\"T_ac5c2_row3_col3\" class=\"data row3 col3\" >0.9653</td>\n",
       "      <td id=\"T_ac5c2_row3_col4\" class=\"data row3 col4\" >0.8779</td>\n",
       "      <td id=\"T_ac5c2_row3_col5\" class=\"data row3 col5\" >0.9183</td>\n",
       "      <td id=\"T_ac5c2_row3_col6\" class=\"data row3 col6\" >0.8636</td>\n",
       "      <td id=\"T_ac5c2_row3_col7\" class=\"data row3 col7\" >0.8679</td>\n",
       "      <td id=\"T_ac5c2_row3_col8\" class=\"data row3 col8\" >0.0210</td>\n",
       "    </tr>\n",
       "    <tr>\n",
       "      <th id=\"T_ac5c2_level0_row4\" class=\"row_heading level0 row4\" >et</th>\n",
       "      <td id=\"T_ac5c2_row4_col0\" class=\"data row4 col0\" >Extra Trees Classifier</td>\n",
       "      <td id=\"T_ac5c2_row4_col1\" class=\"data row4 col1\" >0.9156</td>\n",
       "      <td id=\"T_ac5c2_row4_col2\" class=\"data row4 col2\" >0.9789</td>\n",
       "      <td id=\"T_ac5c2_row4_col3\" class=\"data row4 col3\" >0.8390</td>\n",
       "      <td id=\"T_ac5c2_row4_col4\" class=\"data row4 col4\" >0.9363</td>\n",
       "      <td id=\"T_ac5c2_row4_col5\" class=\"data row4 col5\" >0.8829</td>\n",
       "      <td id=\"T_ac5c2_row4_col6\" class=\"data row4 col6\" >0.8173</td>\n",
       "      <td id=\"T_ac5c2_row4_col7\" class=\"data row4 col7\" >0.8225</td>\n",
       "      <td id=\"T_ac5c2_row4_col8\" class=\"data row4 col8\" >0.0480</td>\n",
       "    </tr>\n",
       "    <tr>\n",
       "      <th id=\"T_ac5c2_level0_row5\" class=\"row_heading level0 row5\" >svm</th>\n",
       "      <td id=\"T_ac5c2_row5_col0\" class=\"data row5 col0\" >SVM - Linear Kernel</td>\n",
       "      <td id=\"T_ac5c2_row5_col1\" class=\"data row5 col1\" >0.8519</td>\n",
       "      <td id=\"T_ac5c2_row5_col2\" class=\"data row5 col2\" >0.0000</td>\n",
       "      <td id=\"T_ac5c2_row5_col3\" class=\"data row5 col3\" >0.6929</td>\n",
       "      <td id=\"T_ac5c2_row5_col4\" class=\"data row5 col4\" >0.9402</td>\n",
       "      <td id=\"T_ac5c2_row5_col5\" class=\"data row5 col5\" >0.7643</td>\n",
       "      <td id=\"T_ac5c2_row5_col6\" class=\"data row5 col6\" >0.6667</td>\n",
       "      <td id=\"T_ac5c2_row5_col7\" class=\"data row5 col7\" >0.7068</td>\n",
       "      <td id=\"T_ac5c2_row5_col8\" class=\"data row5 col8\" >0.0220</td>\n",
       "    </tr>\n",
       "    <tr>\n",
       "      <th id=\"T_ac5c2_level0_row6\" class=\"row_heading level0 row6\" >rf</th>\n",
       "      <td id=\"T_ac5c2_row6_col0\" class=\"data row6 col0\" >Random Forest Classifier</td>\n",
       "      <td id=\"T_ac5c2_row6_col1\" class=\"data row6 col1\" >0.8377</td>\n",
       "      <td id=\"T_ac5c2_row6_col2\" class=\"data row6 col2\" >0.9393</td>\n",
       "      <td id=\"T_ac5c2_row6_col3\" class=\"data row6 col3\" >0.6891</td>\n",
       "      <td id=\"T_ac5c2_row6_col4\" class=\"data row6 col4\" >0.8595</td>\n",
       "      <td id=\"T_ac5c2_row6_col5\" class=\"data row6 col5\" >0.7605</td>\n",
       "      <td id=\"T_ac5c2_row6_col6\" class=\"data row6 col6\" >0.6411</td>\n",
       "      <td id=\"T_ac5c2_row6_col7\" class=\"data row6 col7\" >0.6532</td>\n",
       "      <td id=\"T_ac5c2_row6_col8\" class=\"data row6 col8\" >0.0500</td>\n",
       "    </tr>\n",
       "    <tr>\n",
       "      <th id=\"T_ac5c2_level0_row7\" class=\"row_heading level0 row7\" >knn</th>\n",
       "      <td id=\"T_ac5c2_row7_col0\" class=\"data row7 col0\" >K Neighbors Classifier</td>\n",
       "      <td id=\"T_ac5c2_row7_col1\" class=\"data row7 col1\" >0.7807</td>\n",
       "      <td id=\"T_ac5c2_row7_col2\" class=\"data row7 col2\" >0.8305</td>\n",
       "      <td id=\"T_ac5c2_row7_col3\" class=\"data row7 col3\" >0.6486</td>\n",
       "      <td id=\"T_ac5c2_row7_col4\" class=\"data row7 col4\" >0.7465</td>\n",
       "      <td id=\"T_ac5c2_row7_col5\" class=\"data row7 col5\" >0.6922</td>\n",
       "      <td id=\"T_ac5c2_row7_col6\" class=\"data row7 col6\" >0.5234</td>\n",
       "      <td id=\"T_ac5c2_row7_col7\" class=\"data row7 col7\" >0.5282</td>\n",
       "      <td id=\"T_ac5c2_row7_col8\" class=\"data row7 col8\" >0.1920</td>\n",
       "    </tr>\n",
       "    <tr>\n",
       "      <th id=\"T_ac5c2_level0_row8\" class=\"row_heading level0 row8\" >gbc</th>\n",
       "      <td id=\"T_ac5c2_row8_col0\" class=\"data row8 col0\" >Gradient Boosting Classifier</td>\n",
       "      <td id=\"T_ac5c2_row8_col1\" class=\"data row8 col1\" >0.7606</td>\n",
       "      <td id=\"T_ac5c2_row8_col2\" class=\"data row8 col2\" >0.7419</td>\n",
       "      <td id=\"T_ac5c2_row8_col3\" class=\"data row8 col3\" >0.5103</td>\n",
       "      <td id=\"T_ac5c2_row8_col4\" class=\"data row8 col4\" >0.7544</td>\n",
       "      <td id=\"T_ac5c2_row8_col5\" class=\"data row8 col5\" >0.5832</td>\n",
       "      <td id=\"T_ac5c2_row8_col6\" class=\"data row8 col6\" >0.4411</td>\n",
       "      <td id=\"T_ac5c2_row8_col7\" class=\"data row8 col7\" >0.4682</td>\n",
       "      <td id=\"T_ac5c2_row8_col8\" class=\"data row8 col8\" >0.0360</td>\n",
       "    </tr>\n",
       "    <tr>\n",
       "      <th id=\"T_ac5c2_level0_row9\" class=\"row_heading level0 row9\" >ada</th>\n",
       "      <td id=\"T_ac5c2_row9_col0\" class=\"data row9 col0\" >Ada Boost Classifier</td>\n",
       "      <td id=\"T_ac5c2_row9_col1\" class=\"data row9 col1\" >0.7084</td>\n",
       "      <td id=\"T_ac5c2_row9_col2\" class=\"data row9 col2\" >0.7830</td>\n",
       "      <td id=\"T_ac5c2_row9_col3\" class=\"data row9 col3\" >0.4067</td>\n",
       "      <td id=\"T_ac5c2_row9_col4\" class=\"data row9 col4\" >0.7014</td>\n",
       "      <td id=\"T_ac5c2_row9_col5\" class=\"data row9 col5\" >0.4978</td>\n",
       "      <td id=\"T_ac5c2_row9_col6\" class=\"data row9 col6\" >0.3215</td>\n",
       "      <td id=\"T_ac5c2_row9_col7\" class=\"data row9 col7\" >0.3517</td>\n",
       "      <td id=\"T_ac5c2_row9_col8\" class=\"data row9 col8\" >0.0330</td>\n",
       "    </tr>\n",
       "    <tr>\n",
       "      <th id=\"T_ac5c2_level0_row10\" class=\"row_heading level0 row10\" >dt</th>\n",
       "      <td id=\"T_ac5c2_row10_col0\" class=\"data row10 col0\" >Decision Tree Classifier</td>\n",
       "      <td id=\"T_ac5c2_row10_col1\" class=\"data row10 col1\" >0.7062</td>\n",
       "      <td id=\"T_ac5c2_row10_col2\" class=\"data row10 col2\" >0.6453</td>\n",
       "      <td id=\"T_ac5c2_row10_col3\" class=\"data row10 col3\" >0.3914</td>\n",
       "      <td id=\"T_ac5c2_row10_col4\" class=\"data row10 col4\" >0.6874</td>\n",
       "      <td id=\"T_ac5c2_row10_col5\" class=\"data row10 col5\" >0.4861</td>\n",
       "      <td id=\"T_ac5c2_row10_col6\" class=\"data row10 col6\" >0.3112</td>\n",
       "      <td id=\"T_ac5c2_row10_col7\" class=\"data row10 col7\" >0.3389</td>\n",
       "      <td id=\"T_ac5c2_row10_col8\" class=\"data row10 col8\" >0.0210</td>\n",
       "    </tr>\n",
       "    <tr>\n",
       "      <th id=\"T_ac5c2_level0_row11\" class=\"row_heading level0 row11\" >dummy</th>\n",
       "      <td id=\"T_ac5c2_row11_col0\" class=\"data row11 col0\" >Dummy Classifier</td>\n",
       "      <td id=\"T_ac5c2_row11_col1\" class=\"data row11 col1\" >0.6195</td>\n",
       "      <td id=\"T_ac5c2_row11_col2\" class=\"data row11 col2\" >0.5000</td>\n",
       "      <td id=\"T_ac5c2_row11_col3\" class=\"data row11 col3\" >0.0000</td>\n",
       "      <td id=\"T_ac5c2_row11_col4\" class=\"data row11 col4\" >0.0000</td>\n",
       "      <td id=\"T_ac5c2_row11_col5\" class=\"data row11 col5\" >0.0000</td>\n",
       "      <td id=\"T_ac5c2_row11_col6\" class=\"data row11 col6\" >0.0000</td>\n",
       "      <td id=\"T_ac5c2_row11_col7\" class=\"data row11 col7\" >0.0000</td>\n",
       "      <td id=\"T_ac5c2_row11_col8\" class=\"data row11 col8\" >0.0230</td>\n",
       "    </tr>\n",
       "    <tr>\n",
       "      <th id=\"T_ac5c2_level0_row12\" class=\"row_heading level0 row12\" >qda</th>\n",
       "      <td id=\"T_ac5c2_row12_col0\" class=\"data row12 col0\" >Quadratic Discriminant Analysis</td>\n",
       "      <td id=\"T_ac5c2_row12_col1\" class=\"data row12 col1\" >0.6031</td>\n",
       "      <td id=\"T_ac5c2_row12_col2\" class=\"data row12 col2\" >0.5591</td>\n",
       "      <td id=\"T_ac5c2_row12_col3\" class=\"data row12 col3\" >0.5519</td>\n",
       "      <td id=\"T_ac5c2_row12_col4\" class=\"data row12 col4\" >0.5638</td>\n",
       "      <td id=\"T_ac5c2_row12_col5\" class=\"data row12 col5\" >0.4240</td>\n",
       "      <td id=\"T_ac5c2_row12_col6\" class=\"data row12 col6\" >0.1787</td>\n",
       "      <td id=\"T_ac5c2_row12_col7\" class=\"data row12 col7\" >0.2527</td>\n",
       "      <td id=\"T_ac5c2_row12_col8\" class=\"data row12 col8\" >0.0240</td>\n",
       "    </tr>\n",
       "  </tbody>\n",
       "</table>\n"
      ],
      "text/plain": [
       "<pandas.io.formats.style.Styler at 0x243c028c130>"
      ]
     },
     "metadata": {},
     "output_type": "display_data"
    },
    {
     "data": {
      "text/html": [],
      "text/plain": [
       "<IPython.core.display.HTML object>"
      ]
     },
     "metadata": {},
     "output_type": "display_data"
    },
    {
     "name": "stdout",
     "output_type": "stream",
     "text": [
      "LogisticRegression(C=1.0, class_weight=None, dual=False, fit_intercept=True,\n",
      "                   intercept_scaling=1, l1_ratio=None, max_iter=1000,\n",
      "                   multi_class='auto', n_jobs=None, penalty='l2',\n",
      "                   random_state=123, solver='lbfgs', tol=0.0001, verbose=0,\n",
      "                   warm_start=False)\n"
     ]
    }
   ],
   "source": [
    "# functional API\n",
    "best = compare_models()\n",
    "print(best)"
   ]
  },
  {
   "cell_type": "markdown",
   "metadata": {},
   "source": [
    "## Test the best model\n",
    "Now we want to test the best model (logistic regression) on our dataset.\n",
    "In the column 'prediction_label' we can see if our model predicted if the person survived or not. 1 = survived & 0 = dead.\n",
    "In the column 'prediction_score' we can see how sure our model thinks it has predicted the right outcome."
   ]
  },
  {
   "cell_type": "code",
   "execution_count": 47,
   "metadata": {},
   "outputs": [
    {
     "data": {
      "text/html": [
       "<style type=\"text/css\">\n",
       "</style>\n",
       "<table id=\"T_5d741\">\n",
       "  <thead>\n",
       "    <tr>\n",
       "      <th class=\"blank level0\" >&nbsp;</th>\n",
       "      <th id=\"T_5d741_level0_col0\" class=\"col_heading level0 col0\" >Model</th>\n",
       "      <th id=\"T_5d741_level0_col1\" class=\"col_heading level0 col1\" >Accuracy</th>\n",
       "      <th id=\"T_5d741_level0_col2\" class=\"col_heading level0 col2\" >AUC</th>\n",
       "      <th id=\"T_5d741_level0_col3\" class=\"col_heading level0 col3\" >Recall</th>\n",
       "      <th id=\"T_5d741_level0_col4\" class=\"col_heading level0 col4\" >Prec.</th>\n",
       "      <th id=\"T_5d741_level0_col5\" class=\"col_heading level0 col5\" >F1</th>\n",
       "      <th id=\"T_5d741_level0_col6\" class=\"col_heading level0 col6\" >Kappa</th>\n",
       "      <th id=\"T_5d741_level0_col7\" class=\"col_heading level0 col7\" >MCC</th>\n",
       "    </tr>\n",
       "  </thead>\n",
       "  <tbody>\n",
       "    <tr>\n",
       "      <th id=\"T_5d741_level0_row0\" class=\"row_heading level0 row0\" >0</th>\n",
       "      <td id=\"T_5d741_row0_col0\" class=\"data row0 col0\" >Logistic Regression</td>\n",
       "      <td id=\"T_5d741_row0_col1\" class=\"data row0 col1\" >0.9755</td>\n",
       "      <td id=\"T_5d741_row0_col2\" class=\"data row0 col2\" >0.9970</td>\n",
       "      <td id=\"T_5d741_row0_col3\" class=\"data row0 col3\" >0.9536</td>\n",
       "      <td id=\"T_5d741_row0_col4\" class=\"data row0 col4\" >0.9813</td>\n",
       "      <td id=\"T_5d741_row0_col5\" class=\"data row0 col5\" >0.9673</td>\n",
       "      <td id=\"T_5d741_row0_col6\" class=\"data row0 col6\" >0.9477</td>\n",
       "      <td id=\"T_5d741_row0_col7\" class=\"data row0 col7\" >0.9479</td>\n",
       "    </tr>\n",
       "  </tbody>\n",
       "</table>\n"
      ],
      "text/plain": [
       "<pandas.io.formats.style.Styler at 0x243c72f54e0>"
      ]
     },
     "metadata": {},
     "output_type": "display_data"
    },
    {
     "data": {
      "text/html": [
       "<div>\n",
       "<style scoped>\n",
       "    .dataframe tbody tr th:only-of-type {\n",
       "        vertical-align: middle;\n",
       "    }\n",
       "\n",
       "    .dataframe tbody tr th {\n",
       "        vertical-align: top;\n",
       "    }\n",
       "\n",
       "    .dataframe thead th {\n",
       "        text-align: right;\n",
       "    }\n",
       "</style>\n",
       "<table border=\"1\" class=\"dataframe\">\n",
       "  <thead>\n",
       "    <tr style=\"text-align: right;\">\n",
       "      <th></th>\n",
       "      <th>pclass</th>\n",
       "      <th>sex</th>\n",
       "      <th>age</th>\n",
       "      <th>sibsp</th>\n",
       "      <th>parch</th>\n",
       "      <th>ticket</th>\n",
       "      <th>fare</th>\n",
       "      <th>cabin</th>\n",
       "      <th>embarked</th>\n",
       "      <th>boat</th>\n",
       "      <th>body</th>\n",
       "      <th>firstname</th>\n",
       "      <th>title</th>\n",
       "      <th>tastname</th>\n",
       "      <th>survived</th>\n",
       "      <th>prediction_label</th>\n",
       "      <th>prediction_score</th>\n",
       "    </tr>\n",
       "  </thead>\n",
       "  <tbody>\n",
       "    <tr>\n",
       "      <th>0</th>\n",
       "      <td>1</td>\n",
       "      <td>1</td>\n",
       "      <td>18</td>\n",
       "      <td>0</td>\n",
       "      <td>0</td>\n",
       "      <td>24160</td>\n",
       "      <td>211.337494</td>\n",
       "      <td>1</td>\n",
       "      <td>0       S\\n1       S\\n2       S\\n3       S\\n4 ...</td>\n",
       "      <td>True</td>\n",
       "      <td>False</td>\n",
       "      <td>Elisabeth Walton</td>\n",
       "      <td>Miss</td>\n",
       "      <td>Allen</td>\n",
       "      <td>True</td>\n",
       "      <td>1</td>\n",
       "      <td>0.9946</td>\n",
       "    </tr>\n",
       "    <tr>\n",
       "      <th>1</th>\n",
       "      <td>1</td>\n",
       "      <td>2</td>\n",
       "      <td>18</td>\n",
       "      <td>1</td>\n",
       "      <td>2</td>\n",
       "      <td>113781</td>\n",
       "      <td>151.550003</td>\n",
       "      <td>1</td>\n",
       "      <td>0       S\\n1       S\\n2       S\\n3       S\\n4 ...</td>\n",
       "      <td>True</td>\n",
       "      <td>False</td>\n",
       "      <td>Hudson Trevor</td>\n",
       "      <td>Master</td>\n",
       "      <td>Allison</td>\n",
       "      <td>True</td>\n",
       "      <td>1</td>\n",
       "      <td>0.9642</td>\n",
       "    </tr>\n",
       "    <tr>\n",
       "      <th>2</th>\n",
       "      <td>1</td>\n",
       "      <td>1</td>\n",
       "      <td>18</td>\n",
       "      <td>1</td>\n",
       "      <td>2</td>\n",
       "      <td>113781</td>\n",
       "      <td>151.550003</td>\n",
       "      <td>1</td>\n",
       "      <td>0       S\\n1       S\\n2       S\\n3       S\\n4 ...</td>\n",
       "      <td>False</td>\n",
       "      <td>False</td>\n",
       "      <td>Helen Loraine</td>\n",
       "      <td>Miss</td>\n",
       "      <td>Allison</td>\n",
       "      <td>False</td>\n",
       "      <td>0</td>\n",
       "      <td>0.8572</td>\n",
       "    </tr>\n",
       "    <tr>\n",
       "      <th>3</th>\n",
       "      <td>1</td>\n",
       "      <td>2</td>\n",
       "      <td>30</td>\n",
       "      <td>1</td>\n",
       "      <td>2</td>\n",
       "      <td>113781</td>\n",
       "      <td>151.550003</td>\n",
       "      <td>1</td>\n",
       "      <td>0       S\\n1       S\\n2       S\\n3       S\\n4 ...</td>\n",
       "      <td>False</td>\n",
       "      <td>True</td>\n",
       "      <td>Hudson Joshua Creighton</td>\n",
       "      <td>Mr</td>\n",
       "      <td>Allison</td>\n",
       "      <td>False</td>\n",
       "      <td>0</td>\n",
       "      <td>0.9934</td>\n",
       "    </tr>\n",
       "    <tr>\n",
       "      <th>4</th>\n",
       "      <td>1</td>\n",
       "      <td>1</td>\n",
       "      <td>25</td>\n",
       "      <td>1</td>\n",
       "      <td>2</td>\n",
       "      <td>113781</td>\n",
       "      <td>151.550003</td>\n",
       "      <td>1</td>\n",
       "      <td>0       S\\n1       S\\n2       S\\n3       S\\n4 ...</td>\n",
       "      <td>False</td>\n",
       "      <td>False</td>\n",
       "      <td>Hudson J C (Bessie Waldo Daniels)</td>\n",
       "      <td>Mrs</td>\n",
       "      <td>Allison</td>\n",
       "      <td>False</td>\n",
       "      <td>0</td>\n",
       "      <td>0.7349</td>\n",
       "    </tr>\n",
       "    <tr>\n",
       "      <th>...</th>\n",
       "      <td>...</td>\n",
       "      <td>...</td>\n",
       "      <td>...</td>\n",
       "      <td>...</td>\n",
       "      <td>...</td>\n",
       "      <td>...</td>\n",
       "      <td>...</td>\n",
       "      <td>...</td>\n",
       "      <td>...</td>\n",
       "      <td>...</td>\n",
       "      <td>...</td>\n",
       "      <td>...</td>\n",
       "      <td>...</td>\n",
       "      <td>...</td>\n",
       "      <td>...</td>\n",
       "      <td>...</td>\n",
       "      <td>...</td>\n",
       "    </tr>\n",
       "    <tr>\n",
       "      <th>1304</th>\n",
       "      <td>3</td>\n",
       "      <td>1</td>\n",
       "      <td>18</td>\n",
       "      <td>1</td>\n",
       "      <td>0</td>\n",
       "      <td>2665</td>\n",
       "      <td>14.454200</td>\n",
       "      <td>0</td>\n",
       "      <td>0       S\\n1       S\\n2       S\\n3       S\\n4 ...</td>\n",
       "      <td>False</td>\n",
       "      <td>True</td>\n",
       "      <td>Hileni</td>\n",
       "      <td>Miss</td>\n",
       "      <td>Zabour</td>\n",
       "      <td>False</td>\n",
       "      <td>0</td>\n",
       "      <td>0.9571</td>\n",
       "    </tr>\n",
       "    <tr>\n",
       "      <th>1305</th>\n",
       "      <td>3</td>\n",
       "      <td>1</td>\n",
       "      <td>18</td>\n",
       "      <td>1</td>\n",
       "      <td>0</td>\n",
       "      <td>2665</td>\n",
       "      <td>14.454200</td>\n",
       "      <td>0</td>\n",
       "      <td>0       S\\n1       S\\n2       S\\n3       S\\n4 ...</td>\n",
       "      <td>False</td>\n",
       "      <td>False</td>\n",
       "      <td>Thamine</td>\n",
       "      <td>Miss</td>\n",
       "      <td>Zabour</td>\n",
       "      <td>False</td>\n",
       "      <td>0</td>\n",
       "      <td>0.8861</td>\n",
       "    </tr>\n",
       "    <tr>\n",
       "      <th>1306</th>\n",
       "      <td>3</td>\n",
       "      <td>2</td>\n",
       "      <td>26</td>\n",
       "      <td>0</td>\n",
       "      <td>0</td>\n",
       "      <td>2656</td>\n",
       "      <td>7.225000</td>\n",
       "      <td>0</td>\n",
       "      <td>0       S\\n1       S\\n2       S\\n3       S\\n4 ...</td>\n",
       "      <td>False</td>\n",
       "      <td>True</td>\n",
       "      <td>Mapriededer</td>\n",
       "      <td>Mr</td>\n",
       "      <td>Zakarian</td>\n",
       "      <td>False</td>\n",
       "      <td>0</td>\n",
       "      <td>0.9948</td>\n",
       "    </tr>\n",
       "    <tr>\n",
       "      <th>1307</th>\n",
       "      <td>3</td>\n",
       "      <td>2</td>\n",
       "      <td>27</td>\n",
       "      <td>0</td>\n",
       "      <td>0</td>\n",
       "      <td>2670</td>\n",
       "      <td>7.225000</td>\n",
       "      <td>0</td>\n",
       "      <td>0       S\\n1       S\\n2       S\\n3       S\\n4 ...</td>\n",
       "      <td>False</td>\n",
       "      <td>False</td>\n",
       "      <td>Ortin</td>\n",
       "      <td>Mr</td>\n",
       "      <td>Zakarian</td>\n",
       "      <td>False</td>\n",
       "      <td>0</td>\n",
       "      <td>0.9835</td>\n",
       "    </tr>\n",
       "    <tr>\n",
       "      <th>1308</th>\n",
       "      <td>3</td>\n",
       "      <td>2</td>\n",
       "      <td>29</td>\n",
       "      <td>0</td>\n",
       "      <td>0</td>\n",
       "      <td>315082</td>\n",
       "      <td>7.875000</td>\n",
       "      <td>0</td>\n",
       "      <td>0       S\\n1       S\\n2       S\\n3       S\\n4 ...</td>\n",
       "      <td>False</td>\n",
       "      <td>False</td>\n",
       "      <td>Leo</td>\n",
       "      <td>Mr</td>\n",
       "      <td>Zimmerman</td>\n",
       "      <td>False</td>\n",
       "      <td>0</td>\n",
       "      <td>0.9868</td>\n",
       "    </tr>\n",
       "  </tbody>\n",
       "</table>\n",
       "<p>1304 rows × 17 columns</p>\n",
       "</div>"
      ],
      "text/plain": [
       "      pclass  sex  age  sibsp  parch  ticket        fare  cabin  \\\n",
       "0          1    1   18      0      0   24160  211.337494      1   \n",
       "1          1    2   18      1      2  113781  151.550003      1   \n",
       "2          1    1   18      1      2  113781  151.550003      1   \n",
       "3          1    2   30      1      2  113781  151.550003      1   \n",
       "4          1    1   25      1      2  113781  151.550003      1   \n",
       "...      ...  ...  ...    ...    ...     ...         ...    ...   \n",
       "1304       3    1   18      1      0    2665   14.454200      0   \n",
       "1305       3    1   18      1      0    2665   14.454200      0   \n",
       "1306       3    2   26      0      0    2656    7.225000      0   \n",
       "1307       3    2   27      0      0    2670    7.225000      0   \n",
       "1308       3    2   29      0      0  315082    7.875000      0   \n",
       "\n",
       "                                               embarked   boat   body  \\\n",
       "0     0       S\\n1       S\\n2       S\\n3       S\\n4 ...   True  False   \n",
       "1     0       S\\n1       S\\n2       S\\n3       S\\n4 ...   True  False   \n",
       "2     0       S\\n1       S\\n2       S\\n3       S\\n4 ...  False  False   \n",
       "3     0       S\\n1       S\\n2       S\\n3       S\\n4 ...  False   True   \n",
       "4     0       S\\n1       S\\n2       S\\n3       S\\n4 ...  False  False   \n",
       "...                                                 ...    ...    ...   \n",
       "1304  0       S\\n1       S\\n2       S\\n3       S\\n4 ...  False   True   \n",
       "1305  0       S\\n1       S\\n2       S\\n3       S\\n4 ...  False  False   \n",
       "1306  0       S\\n1       S\\n2       S\\n3       S\\n4 ...  False   True   \n",
       "1307  0       S\\n1       S\\n2       S\\n3       S\\n4 ...  False  False   \n",
       "1308  0       S\\n1       S\\n2       S\\n3       S\\n4 ...  False  False   \n",
       "\n",
       "                               firstname   title   tastname  survived  \\\n",
       "0                       Elisabeth Walton    Miss      Allen      True   \n",
       "1                          Hudson Trevor  Master    Allison      True   \n",
       "2                          Helen Loraine    Miss    Allison     False   \n",
       "3                Hudson Joshua Creighton      Mr    Allison     False   \n",
       "4      Hudson J C (Bessie Waldo Daniels)     Mrs    Allison     False   \n",
       "...                                  ...     ...        ...       ...   \n",
       "1304                              Hileni    Miss     Zabour     False   \n",
       "1305                             Thamine    Miss     Zabour     False   \n",
       "1306                         Mapriededer      Mr   Zakarian     False   \n",
       "1307                               Ortin      Mr   Zakarian     False   \n",
       "1308                                 Leo      Mr  Zimmerman     False   \n",
       "\n",
       "      prediction_label  prediction_score  \n",
       "0                    1            0.9946  \n",
       "1                    1            0.9642  \n",
       "2                    0            0.8572  \n",
       "3                    0            0.9934  \n",
       "4                    0            0.7349  \n",
       "...                ...               ...  \n",
       "1304                 0            0.9571  \n",
       "1305                 0            0.8861  \n",
       "1306                 0            0.9948  \n",
       "1307                 0            0.9835  \n",
       "1308                 0            0.9868  \n",
       "\n",
       "[1304 rows x 17 columns]"
      ]
     },
     "execution_count": 47,
     "metadata": {},
     "output_type": "execute_result"
    }
   ],
   "source": [
    "predict_model(best, data=df_encoded)"
   ]
  },
  {
   "cell_type": "markdown",
   "metadata": {},
   "source": [
    "## Save model\n",
    "Finally we can save the model in our files folder."
   ]
  },
  {
   "cell_type": "code",
   "execution_count": 48,
   "metadata": {},
   "outputs": [
    {
     "name": "stdout",
     "output_type": "stream",
     "text": [
      "Transformation Pipeline and Model Successfully Saved\n"
     ]
    },
    {
     "data": {
      "text/plain": [
       "(Pipeline(memory=Memory(location=None),\n",
       "          steps=[('numerical_imputer',\n",
       "                  TransformerWrapper(exclude=None,\n",
       "                                     include=['pclass', 'sex', 'age', 'sibsp',\n",
       "                                              'parch', 'fare', 'cabin'],\n",
       "                                     transformer=SimpleImputer(add_indicator=False,\n",
       "                                                               copy=True,\n",
       "                                                               fill_value=None,\n",
       "                                                               keep_empty_features=False,\n",
       "                                                               missing_values=nan,\n",
       "                                                               strategy='mean',\n",
       "                                                               verbose='deprecated'))),\n",
       "                 ('categorical_imputer',\n",
       "                  Transforme...\n",
       "                                                               handle_unknown='value',\n",
       "                                                               hierarchy=None,\n",
       "                                                               min_samples_leaf=20,\n",
       "                                                               return_df=True,\n",
       "                                                               smoothing=10,\n",
       "                                                               verbose=0))),\n",
       "                 ('trained_model',\n",
       "                  LogisticRegression(C=1.0, class_weight=None, dual=False,\n",
       "                                     fit_intercept=True, intercept_scaling=1,\n",
       "                                     l1_ratio=None, max_iter=1000,\n",
       "                                     multi_class='auto', n_jobs=None,\n",
       "                                     penalty='l2', random_state=123,\n",
       "                                     solver='lbfgs', tol=0.0001, verbose=0,\n",
       "                                     warm_start=False))],\n",
       "          verbose=False),\n",
       " 'files/titanic_pycaret_model.pkl')"
      ]
     },
     "execution_count": 48,
     "metadata": {},
     "output_type": "execute_result"
    }
   ],
   "source": [
    "save_model(best, 'files/titanic_pycaret_model')"
   ]
  },
  {
   "cell_type": "markdown",
   "metadata": {},
   "source": [
    "If I want to reuse this model I can simply load it from my files folder"
   ]
  },
  {
   "cell_type": "code",
   "execution_count": 49,
   "metadata": {},
   "outputs": [
    {
     "name": "stdout",
     "output_type": "stream",
     "text": [
      "Transformation Pipeline and Model Successfully Loaded\n",
      "Pipeline(memory=FastMemory(location=C:\\Users\\woute\\AppData\\Local\\Temp\\joblib),\n",
      "         steps=[('numerical_imputer',\n",
      "                 TransformerWrapper(exclude=None,\n",
      "                                    include=['pclass', 'sex', 'age', 'sibsp',\n",
      "                                             'parch', 'fare', 'cabin'],\n",
      "                                    transformer=SimpleImputer(add_indicator=False,\n",
      "                                                              copy=True,\n",
      "                                                              fill_value=None,\n",
      "                                                              keep_empty_features=False,\n",
      "                                                              missing_values=nan,\n",
      "                                                              strategy='mean',\n",
      "                                                              verbose='deprecat...\n",
      "                                                              handle_unknown='value',\n",
      "                                                              hierarchy=None,\n",
      "                                                              min_samples_leaf=20,\n",
      "                                                              return_df=True,\n",
      "                                                              smoothing=10,\n",
      "                                                              verbose=0))),\n",
      "                ('trained_model',\n",
      "                 LogisticRegression(C=1.0, class_weight=None, dual=False,\n",
      "                                    fit_intercept=True, intercept_scaling=1,\n",
      "                                    l1_ratio=None, max_iter=1000,\n",
      "                                    multi_class='auto', n_jobs=None,\n",
      "                                    penalty='l2', random_state=123,\n",
      "                                    solver='lbfgs', tol=0.0001, verbose=0,\n",
      "                                    warm_start=False))],\n",
      "         verbose=False)\n"
     ]
    }
   ],
   "source": [
    "loaded_model = load_model('files/titanic_pycaret_model')\n",
    "print(loaded_model)"
   ]
  }
 ],
 "metadata": {
  "kernelspec": {
   "display_name": "Python 3",
   "language": "python",
   "name": "python3"
  },
  "language_info": {
   "codemirror_mode": {
    "name": "ipython",
    "version": 3
   },
   "file_extension": ".py",
   "mimetype": "text/x-python",
   "name": "python",
   "nbconvert_exporter": "python",
   "pygments_lexer": "ipython3",
   "version": "3.10.11"
  },
  "orig_nbformat": 4
 },
 "nbformat": 4,
 "nbformat_minor": 2
}
