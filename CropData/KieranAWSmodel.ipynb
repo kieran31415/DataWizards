{
 "cells": [
  {
   "cell_type": "markdown",
   "metadata": {},
   "source": [
    "# Loading the data"
   ]
  },
  {
   "cell_type": "code",
   "execution_count": 1,
   "metadata": {},
   "outputs": [],
   "source": [
    "import pandas as pd\n",
    "import matplotlib.pyplot as plt\n",
    "import seaborn as sns\n",
    "import numpy as np\n",
    "import category_encoders as ce"
   ]
  },
  {
   "cell_type": "code",
   "execution_count": 2,
   "metadata": {},
   "outputs": [
    {
     "data": {
      "text/html": [
       "<div>\n",
       "<style scoped>\n",
       "    .dataframe tbody tr th:only-of-type {\n",
       "        vertical-align: middle;\n",
       "    }\n",
       "\n",
       "    .dataframe tbody tr th {\n",
       "        vertical-align: top;\n",
       "    }\n",
       "\n",
       "    .dataframe thead th {\n",
       "        text-align: right;\n",
       "    }\n",
       "</style>\n",
       "<table border=\"1\" class=\"dataframe\">\n",
       "  <thead>\n",
       "    <tr style=\"text-align: right;\">\n",
       "      <th></th>\n",
       "      <th>Harvest_year</th>\n",
       "      <th>admin0</th>\n",
       "      <th>admin1</th>\n",
       "      <th>crop</th>\n",
       "      <th>year</th>\n",
       "      <th>yield(tonnes/ha)</th>\n",
       "    </tr>\n",
       "  </thead>\n",
       "  <tbody>\n",
       "    <tr>\n",
       "      <th>0</th>\n",
       "      <td>1902</td>\n",
       "      <td>Austria</td>\n",
       "      <td>Austria</td>\n",
       "      <td>wheat</td>\n",
       "      <td>1902</td>\n",
       "      <td>1.310000</td>\n",
       "    </tr>\n",
       "    <tr>\n",
       "      <th>1</th>\n",
       "      <td>1903</td>\n",
       "      <td>Austria</td>\n",
       "      <td>Austria</td>\n",
       "      <td>wheat</td>\n",
       "      <td>1903</td>\n",
       "      <td>1.470000</td>\n",
       "    </tr>\n",
       "    <tr>\n",
       "      <th>2</th>\n",
       "      <td>1904</td>\n",
       "      <td>Austria</td>\n",
       "      <td>Austria</td>\n",
       "      <td>wheat</td>\n",
       "      <td>1904</td>\n",
       "      <td>1.270000</td>\n",
       "    </tr>\n",
       "    <tr>\n",
       "      <th>3</th>\n",
       "      <td>1905</td>\n",
       "      <td>Austria</td>\n",
       "      <td>Austria</td>\n",
       "      <td>wheat</td>\n",
       "      <td>1905</td>\n",
       "      <td>1.330000</td>\n",
       "    </tr>\n",
       "    <tr>\n",
       "      <th>4</th>\n",
       "      <td>1906</td>\n",
       "      <td>Austria</td>\n",
       "      <td>Austria</td>\n",
       "      <td>wheat</td>\n",
       "      <td>1906</td>\n",
       "      <td>1.280000</td>\n",
       "    </tr>\n",
       "    <tr>\n",
       "      <th>...</th>\n",
       "      <td>...</td>\n",
       "      <td>...</td>\n",
       "      <td>...</td>\n",
       "      <td>...</td>\n",
       "      <td>...</td>\n",
       "      <td>...</td>\n",
       "    </tr>\n",
       "    <tr>\n",
       "      <th>36702</th>\n",
       "      <td>2013</td>\n",
       "      <td>China</td>\n",
       "      <td>zhejiang</td>\n",
       "      <td>wheat</td>\n",
       "      <td>2013</td>\n",
       "      <td>3.685117</td>\n",
       "    </tr>\n",
       "    <tr>\n",
       "      <th>36703</th>\n",
       "      <td>2014</td>\n",
       "      <td>China</td>\n",
       "      <td>zhejiang</td>\n",
       "      <td>wheat</td>\n",
       "      <td>2014</td>\n",
       "      <td>3.768875</td>\n",
       "    </tr>\n",
       "    <tr>\n",
       "      <th>36704</th>\n",
       "      <td>2015</td>\n",
       "      <td>China</td>\n",
       "      <td>zhejiang</td>\n",
       "      <td>wheat</td>\n",
       "      <td>2015</td>\n",
       "      <td>3.912027</td>\n",
       "    </tr>\n",
       "    <tr>\n",
       "      <th>36705</th>\n",
       "      <td>2016</td>\n",
       "      <td>China</td>\n",
       "      <td>zhejiang</td>\n",
       "      <td>wheat</td>\n",
       "      <td>2016</td>\n",
       "      <td>3.315054</td>\n",
       "    </tr>\n",
       "    <tr>\n",
       "      <th>36706</th>\n",
       "      <td>2017</td>\n",
       "      <td>China</td>\n",
       "      <td>zhejiang</td>\n",
       "      <td>wheat</td>\n",
       "      <td>2017</td>\n",
       "      <td>4.043600</td>\n",
       "    </tr>\n",
       "  </tbody>\n",
       "</table>\n",
       "<p>36707 rows × 6 columns</p>\n",
       "</div>"
      ],
      "text/plain": [
       "       Harvest_year   admin0    admin1   crop  year  yield(tonnes/ha)\n",
       "0              1902  Austria   Austria  wheat  1902          1.310000\n",
       "1              1903  Austria   Austria  wheat  1903          1.470000\n",
       "2              1904  Austria   Austria  wheat  1904          1.270000\n",
       "3              1905  Austria   Austria  wheat  1905          1.330000\n",
       "4              1906  Austria   Austria  wheat  1906          1.280000\n",
       "...             ...      ...       ...    ...   ...               ...\n",
       "36702          2013    China  zhejiang  wheat  2013          3.685117\n",
       "36703          2014    China  zhejiang  wheat  2014          3.768875\n",
       "36704          2015    China  zhejiang  wheat  2015          3.912027\n",
       "36705          2016    China  zhejiang  wheat  2016          3.315054\n",
       "36706          2017    China  zhejiang  wheat  2017          4.043600\n",
       "\n",
       "[36707 rows x 6 columns]"
      ]
     },
     "execution_count": 2,
     "metadata": {},
     "output_type": "execute_result"
    }
   ],
   "source": [
    "df = pd.read_excel('files/food-twentieth-century-crop-statistics-1900-2017-xlsx.xlsx', sheet_name=\"CropStats\")\n",
    "\n",
    "df_transformed=df.drop(['Unnamed: 0','admin2','notes'], axis=1)\n",
    "df_transformed['admin1'].fillna(df['admin0'], inplace=True)\n",
    "\n",
    "for index, row in df_transformed.iterrows():\n",
    "    if pd.notna(row['hectares (ha)']) and pd.notna(row['production (tonnes)']) and pd.isna(row['yield(tonnes/ha)']) and row['hectares (ha)'] != 0:\n",
    "        df_transformed.at[index, 'yield(tonnes/ha)'] = row['production (tonnes)'] / row['hectares (ha)']\n",
    "\n",
    "df_transformed['yield(tonnes/ha)'].bfill(inplace=True)\n",
    "df_transformed=df_transformed.drop(['hectares (ha)','production (tonnes)'], axis=1)\n",
    "df_transformed"
   ]
  },
  {
   "cell_type": "markdown",
   "metadata": {},
   "source": [
    "# AWS Model"
   ]
  },
  {
   "cell_type": "markdown",
   "metadata": {},
   "source": [
    "First we are going to import all the libraries we will need."
   ]
  },
  {
   "cell_type": "code",
   "execution_count": 29,
   "metadata": {},
   "outputs": [
    {
     "name": "stdout",
     "output_type": "stream",
     "text": [
      "sagemaker.config INFO - Not applying SDK defaults from location: /etc/xdg/sagemaker/config.yaml\n",
      "sagemaker.config INFO - Not applying SDK defaults from location: /home/ec2-user/.config/sagemaker/config.yaml\n"
     ]
    }
   ],
   "source": [
    "from sklearn.model_selection import train_test_split\n",
    "from sklearn.metrics import mean_squared_error\n",
    "from sagemaker.image_uris import retrieve\n",
    "import sagemaker\n",
    "from sagemaker import get_execution_role\n",
    "import boto3\n",
    "from sagemaker.amazon.amazon_estimator import get_image_uri\n",
    "import numpy as np\n",
    "import pandas as pd\n",
    "import io\n",
    "import os"
   ]
  },
  {
   "cell_type": "markdown",
   "metadata": {},
   "source": [
    "This is the dataframe we are going to use to make our model."
   ]
  },
  {
   "cell_type": "code",
   "execution_count": 30,
   "metadata": {},
   "outputs": [
    {
     "data": {
      "text/html": [
       "<div>\n",
       "<style scoped>\n",
       "    .dataframe tbody tr th:only-of-type {\n",
       "        vertical-align: middle;\n",
       "    }\n",
       "\n",
       "    .dataframe tbody tr th {\n",
       "        vertical-align: top;\n",
       "    }\n",
       "\n",
       "    .dataframe thead th {\n",
       "        text-align: right;\n",
       "    }\n",
       "</style>\n",
       "<table border=\"1\" class=\"dataframe\">\n",
       "  <thead>\n",
       "    <tr style=\"text-align: right;\">\n",
       "      <th></th>\n",
       "      <th>Unnamed: 0</th>\n",
       "      <th>Harvest_year</th>\n",
       "      <th>admin0</th>\n",
       "      <th>admin1</th>\n",
       "      <th>crop</th>\n",
       "      <th>year</th>\n",
       "      <th>yield(tonnes/ha)</th>\n",
       "    </tr>\n",
       "  </thead>\n",
       "  <tbody>\n",
       "    <tr>\n",
       "      <th>0</th>\n",
       "      <td>0</td>\n",
       "      <td>1902</td>\n",
       "      <td>Austria</td>\n",
       "      <td>Austria</td>\n",
       "      <td>wheat</td>\n",
       "      <td>1902</td>\n",
       "      <td>1.310000</td>\n",
       "    </tr>\n",
       "    <tr>\n",
       "      <th>1</th>\n",
       "      <td>1</td>\n",
       "      <td>1903</td>\n",
       "      <td>Austria</td>\n",
       "      <td>Austria</td>\n",
       "      <td>wheat</td>\n",
       "      <td>1903</td>\n",
       "      <td>1.470000</td>\n",
       "    </tr>\n",
       "    <tr>\n",
       "      <th>2</th>\n",
       "      <td>2</td>\n",
       "      <td>1904</td>\n",
       "      <td>Austria</td>\n",
       "      <td>Austria</td>\n",
       "      <td>wheat</td>\n",
       "      <td>1904</td>\n",
       "      <td>1.270000</td>\n",
       "    </tr>\n",
       "    <tr>\n",
       "      <th>3</th>\n",
       "      <td>3</td>\n",
       "      <td>1905</td>\n",
       "      <td>Austria</td>\n",
       "      <td>Austria</td>\n",
       "      <td>wheat</td>\n",
       "      <td>1905</td>\n",
       "      <td>1.330000</td>\n",
       "    </tr>\n",
       "    <tr>\n",
       "      <th>4</th>\n",
       "      <td>4</td>\n",
       "      <td>1906</td>\n",
       "      <td>Austria</td>\n",
       "      <td>Austria</td>\n",
       "      <td>wheat</td>\n",
       "      <td>1906</td>\n",
       "      <td>1.280000</td>\n",
       "    </tr>\n",
       "    <tr>\n",
       "      <th>...</th>\n",
       "      <td>...</td>\n",
       "      <td>...</td>\n",
       "      <td>...</td>\n",
       "      <td>...</td>\n",
       "      <td>...</td>\n",
       "      <td>...</td>\n",
       "      <td>...</td>\n",
       "    </tr>\n",
       "    <tr>\n",
       "      <th>36702</th>\n",
       "      <td>36702</td>\n",
       "      <td>2013</td>\n",
       "      <td>China</td>\n",
       "      <td>zhejiang</td>\n",
       "      <td>wheat</td>\n",
       "      <td>2013</td>\n",
       "      <td>3.685117</td>\n",
       "    </tr>\n",
       "    <tr>\n",
       "      <th>36703</th>\n",
       "      <td>36703</td>\n",
       "      <td>2014</td>\n",
       "      <td>China</td>\n",
       "      <td>zhejiang</td>\n",
       "      <td>wheat</td>\n",
       "      <td>2014</td>\n",
       "      <td>3.768875</td>\n",
       "    </tr>\n",
       "    <tr>\n",
       "      <th>36704</th>\n",
       "      <td>36704</td>\n",
       "      <td>2015</td>\n",
       "      <td>China</td>\n",
       "      <td>zhejiang</td>\n",
       "      <td>wheat</td>\n",
       "      <td>2015</td>\n",
       "      <td>3.912027</td>\n",
       "    </tr>\n",
       "    <tr>\n",
       "      <th>36705</th>\n",
       "      <td>36705</td>\n",
       "      <td>2016</td>\n",
       "      <td>China</td>\n",
       "      <td>zhejiang</td>\n",
       "      <td>wheat</td>\n",
       "      <td>2016</td>\n",
       "      <td>3.315054</td>\n",
       "    </tr>\n",
       "    <tr>\n",
       "      <th>36706</th>\n",
       "      <td>36706</td>\n",
       "      <td>2017</td>\n",
       "      <td>China</td>\n",
       "      <td>zhejiang</td>\n",
       "      <td>wheat</td>\n",
       "      <td>2017</td>\n",
       "      <td>4.043600</td>\n",
       "    </tr>\n",
       "  </tbody>\n",
       "</table>\n",
       "<p>36707 rows × 7 columns</p>\n",
       "</div>"
      ],
      "text/plain": [
       "       Unnamed: 0  Harvest_year   admin0    admin1   crop  year  \\\n",
       "0               0          1902  Austria   Austria  wheat  1902   \n",
       "1               1          1903  Austria   Austria  wheat  1903   \n",
       "2               2          1904  Austria   Austria  wheat  1904   \n",
       "3               3          1905  Austria   Austria  wheat  1905   \n",
       "4               4          1906  Austria   Austria  wheat  1906   \n",
       "...           ...           ...      ...       ...    ...   ...   \n",
       "36702       36702          2013    China  zhejiang  wheat  2013   \n",
       "36703       36703          2014    China  zhejiang  wheat  2014   \n",
       "36704       36704          2015    China  zhejiang  wheat  2015   \n",
       "36705       36705          2016    China  zhejiang  wheat  2016   \n",
       "36706       36706          2017    China  zhejiang  wheat  2017   \n",
       "\n",
       "       yield(tonnes/ha)  \n",
       "0              1.310000  \n",
       "1              1.470000  \n",
       "2              1.270000  \n",
       "3              1.330000  \n",
       "4              1.280000  \n",
       "...                 ...  \n",
       "36702          3.685117  \n",
       "36703          3.768875  \n",
       "36704          3.912027  \n",
       "36705          3.315054  \n",
       "36706          4.043600  \n",
       "\n",
       "[36707 rows x 7 columns]"
      ]
     },
     "execution_count": 30,
     "metadata": {},
     "output_type": "execute_result"
    }
   ],
   "source": [
    "df_transformed"
   ]
  },
  {
   "cell_type": "markdown",
   "metadata": {},
   "source": [
    "Xgb needs the value we want to predict in the first slot. So we have to move our yield from last to the first column."
   ]
  },
  {
   "cell_type": "code",
   "execution_count": 31,
   "metadata": {},
   "outputs": [
    {
     "data": {
      "text/html": [
       "<div>\n",
       "<style scoped>\n",
       "    .dataframe tbody tr th:only-of-type {\n",
       "        vertical-align: middle;\n",
       "    }\n",
       "\n",
       "    .dataframe tbody tr th {\n",
       "        vertical-align: top;\n",
       "    }\n",
       "\n",
       "    .dataframe thead th {\n",
       "        text-align: right;\n",
       "    }\n",
       "</style>\n",
       "<table border=\"1\" class=\"dataframe\">\n",
       "  <thead>\n",
       "    <tr style=\"text-align: right;\">\n",
       "      <th></th>\n",
       "      <th>yield(tonnes/ha)</th>\n",
       "      <th>Unnamed: 0</th>\n",
       "      <th>Harvest_year</th>\n",
       "      <th>admin0</th>\n",
       "      <th>admin1</th>\n",
       "      <th>crop</th>\n",
       "      <th>year</th>\n",
       "    </tr>\n",
       "  </thead>\n",
       "  <tbody>\n",
       "    <tr>\n",
       "      <th>0</th>\n",
       "      <td>1.310000</td>\n",
       "      <td>0</td>\n",
       "      <td>1902</td>\n",
       "      <td>Austria</td>\n",
       "      <td>Austria</td>\n",
       "      <td>wheat</td>\n",
       "      <td>1902</td>\n",
       "    </tr>\n",
       "    <tr>\n",
       "      <th>1</th>\n",
       "      <td>1.470000</td>\n",
       "      <td>1</td>\n",
       "      <td>1903</td>\n",
       "      <td>Austria</td>\n",
       "      <td>Austria</td>\n",
       "      <td>wheat</td>\n",
       "      <td>1903</td>\n",
       "    </tr>\n",
       "    <tr>\n",
       "      <th>2</th>\n",
       "      <td>1.270000</td>\n",
       "      <td>2</td>\n",
       "      <td>1904</td>\n",
       "      <td>Austria</td>\n",
       "      <td>Austria</td>\n",
       "      <td>wheat</td>\n",
       "      <td>1904</td>\n",
       "    </tr>\n",
       "    <tr>\n",
       "      <th>3</th>\n",
       "      <td>1.330000</td>\n",
       "      <td>3</td>\n",
       "      <td>1905</td>\n",
       "      <td>Austria</td>\n",
       "      <td>Austria</td>\n",
       "      <td>wheat</td>\n",
       "      <td>1905</td>\n",
       "    </tr>\n",
       "    <tr>\n",
       "      <th>4</th>\n",
       "      <td>1.280000</td>\n",
       "      <td>4</td>\n",
       "      <td>1906</td>\n",
       "      <td>Austria</td>\n",
       "      <td>Austria</td>\n",
       "      <td>wheat</td>\n",
       "      <td>1906</td>\n",
       "    </tr>\n",
       "    <tr>\n",
       "      <th>...</th>\n",
       "      <td>...</td>\n",
       "      <td>...</td>\n",
       "      <td>...</td>\n",
       "      <td>...</td>\n",
       "      <td>...</td>\n",
       "      <td>...</td>\n",
       "      <td>...</td>\n",
       "    </tr>\n",
       "    <tr>\n",
       "      <th>36702</th>\n",
       "      <td>3.685117</td>\n",
       "      <td>36702</td>\n",
       "      <td>2013</td>\n",
       "      <td>China</td>\n",
       "      <td>zhejiang</td>\n",
       "      <td>wheat</td>\n",
       "      <td>2013</td>\n",
       "    </tr>\n",
       "    <tr>\n",
       "      <th>36703</th>\n",
       "      <td>3.768875</td>\n",
       "      <td>36703</td>\n",
       "      <td>2014</td>\n",
       "      <td>China</td>\n",
       "      <td>zhejiang</td>\n",
       "      <td>wheat</td>\n",
       "      <td>2014</td>\n",
       "    </tr>\n",
       "    <tr>\n",
       "      <th>36704</th>\n",
       "      <td>3.912027</td>\n",
       "      <td>36704</td>\n",
       "      <td>2015</td>\n",
       "      <td>China</td>\n",
       "      <td>zhejiang</td>\n",
       "      <td>wheat</td>\n",
       "      <td>2015</td>\n",
       "    </tr>\n",
       "    <tr>\n",
       "      <th>36705</th>\n",
       "      <td>3.315054</td>\n",
       "      <td>36705</td>\n",
       "      <td>2016</td>\n",
       "      <td>China</td>\n",
       "      <td>zhejiang</td>\n",
       "      <td>wheat</td>\n",
       "      <td>2016</td>\n",
       "    </tr>\n",
       "    <tr>\n",
       "      <th>36706</th>\n",
       "      <td>4.043600</td>\n",
       "      <td>36706</td>\n",
       "      <td>2017</td>\n",
       "      <td>China</td>\n",
       "      <td>zhejiang</td>\n",
       "      <td>wheat</td>\n",
       "      <td>2017</td>\n",
       "    </tr>\n",
       "  </tbody>\n",
       "</table>\n",
       "<p>36707 rows × 7 columns</p>\n",
       "</div>"
      ],
      "text/plain": [
       "       yield(tonnes/ha)  Unnamed: 0  Harvest_year   admin0    admin1   crop  \\\n",
       "0              1.310000           0          1902  Austria   Austria  wheat   \n",
       "1              1.470000           1          1903  Austria   Austria  wheat   \n",
       "2              1.270000           2          1904  Austria   Austria  wheat   \n",
       "3              1.330000           3          1905  Austria   Austria  wheat   \n",
       "4              1.280000           4          1906  Austria   Austria  wheat   \n",
       "...                 ...         ...           ...      ...       ...    ...   \n",
       "36702          3.685117       36702          2013    China  zhejiang  wheat   \n",
       "36703          3.768875       36703          2014    China  zhejiang  wheat   \n",
       "36704          3.912027       36704          2015    China  zhejiang  wheat   \n",
       "36705          3.315054       36705          2016    China  zhejiang  wheat   \n",
       "36706          4.043600       36706          2017    China  zhejiang  wheat   \n",
       "\n",
       "       year  \n",
       "0      1902  \n",
       "1      1903  \n",
       "2      1904  \n",
       "3      1905  \n",
       "4      1906  \n",
       "...     ...  \n",
       "36702  2013  \n",
       "36703  2014  \n",
       "36704  2015  \n",
       "36705  2016  \n",
       "36706  2017  \n",
       "\n",
       "[36707 rows x 7 columns]"
      ]
     },
     "execution_count": 31,
     "metadata": {},
     "output_type": "execute_result"
    }
   ],
   "source": [
    "cols = df_transformed.columns.tolist()\n",
    "cols = cols[-1:]+cols[:-1]\n",
    "df_model = df_transformed[cols]\n",
    "df_model"
   ]
  },
  {
   "cell_type": "markdown",
   "metadata": {},
   "source": [
    "Here we can also see the order of the columns."
   ]
  },
  {
   "cell_type": "code",
   "execution_count": 32,
   "metadata": {},
   "outputs": [
    {
     "data": {
      "text/plain": [
       "Index(['yield(tonnes/ha)', 'Unnamed: 0', 'Harvest_year', 'admin0', 'admin1',\n",
       "       'crop', 'year'],\n",
       "      dtype='object')"
      ]
     },
     "execution_count": 32,
     "metadata": {},
     "output_type": "execute_result"
    }
   ],
   "source": [
    "df_model.columns"
   ]
  },
  {
   "cell_type": "markdown",
   "metadata": {},
   "source": [
    "We split our dataset into a training set, a validation set and a test set."
   ]
  },
  {
   "cell_type": "code",
   "execution_count": 33,
   "metadata": {},
   "outputs": [],
   "source": [
    "train, test_and_validate = train_test_split(df_model, test_size=0.2, random_state=42, stratify=df_model['Harvest_year'])"
   ]
  },
  {
   "cell_type": "code",
   "execution_count": 34,
   "metadata": {},
   "outputs": [],
   "source": [
    "test, validate = train_test_split(test_and_validate, test_size=0.5, random_state=42)"
   ]
  },
  {
   "cell_type": "markdown",
   "metadata": {},
   "source": [
    "Now we will print the shape of all the sets. As you can see all the sets have the same amount of columns."
   ]
  },
  {
   "cell_type": "code",
   "execution_count": 35,
   "metadata": {},
   "outputs": [
    {
     "name": "stdout",
     "output_type": "stream",
     "text": [
      "(29365, 7)\n",
      "(3671, 7)\n",
      "(3671, 7)\n"
     ]
    }
   ],
   "source": [
    "print(train.shape)\n",
    "print(test.shape)\n",
    "print(validate.shape)"
   ]
  },
  {
   "cell_type": "markdown",
   "metadata": {},
   "source": [
    "Now we will create a S3 bucket and upload our data to that bucket. I do this because we need our data inside a bucket to make our model."
   ]
  },
  {
   "cell_type": "code",
   "execution_count": null,
   "metadata": {},
   "outputs": [],
   "source": [
    "s3 = boto3.client('s3')\n",
    "bucket='cropdata-bucket'\n",
    "\n",
    "prefix='datawizards'\n",
    "\n",
    "train_file='train.csv'\n",
    "test_file='test.csv'\n",
    "validate_file='validate.csv'\n",
    "\n",
    "s3_resource = boto3.Session().resource('s3')\n",
    "\n",
    "s3.create_bucket(Bucket=bucket)\n",
    "\n",
    "def upload_s3_csv(filename, folder, dataframe):\n",
    "    csv_buffer = io.StringIO()\n",
    "    dataframe.to_csv(csv_buffer, header=False, index=False)\n",
    "    s3_resource.Bucket(bucket).Object(os.path.join(prefix, folder, filename)).put(Body=csv_buffer.getvalue())"
   ]
  },
  {
   "cell_type": "markdown",
   "metadata": {},
   "source": [
    "We upload our train, validate and test set to our bucket using the definition we created before."
   ]
  },
  {
   "cell_type": "code",
   "execution_count": null,
   "metadata": {},
   "outputs": [],
   "source": [
    "upload_s3_csv(train_file, 'train', train)\n",
    "upload_s3_csv(test_file, 'test', test)\n",
    "upload_s3_csv(validate_file, 'validate', validate)"
   ]
  },
  {
   "cell_type": "markdown",
   "metadata": {},
   "source": [
    "Now it is time to train our model. We retrieve the xgboost inside the container."
   ]
  },
  {
   "cell_type": "code",
   "execution_count": null,
   "metadata": {},
   "outputs": [],
   "source": [
    "container = retrieve('xgboost', boto3.Session().region_name,'1.0-1')"
   ]
  },
  {
   "cell_type": "markdown",
   "metadata": {},
   "source": [
    "We enter the hyperparameters so we can create a regression model."
   ]
  },
  {
   "cell_type": "code",
   "execution_count": null,
   "metadata": {},
   "outputs": [],
   "source": [
    "hyperparams={\n",
    "    \"num_round\":\"42\",\n",
    "    \"eval_metric\":\"rmse,mae\",\n",
    "    \"objective\": \"reg:squarederror\"\n",
    "}"
   ]
  },
  {
   "cell_type": "markdown",
   "metadata": {},
   "source": [
    "Now we can make the model using the container and hyperparameter we have created. we also have to define the path towards our S3 bucket."
   ]
  },
  {
   "cell_type": "code",
   "execution_count": null,
   "metadata": {},
   "outputs": [],
   "source": [
    "s3_output_location=\"s3://{}/{}/output/\".format(bucket,prefix)\n",
    "xgb_model=sagemaker.estimator.Estimator(container,\n",
    "                                        sagemaker.get_execution_role(),\n",
    "                                        instance_count=1,\n",
    "                                        instance_type='ml.m4.xlarge',\n",
    "                                        output_path=s3_output_location,\n",
    "                                        hyperparameters=hyperparams,\n",
    "                                        sagemaker_session=sagemaker.Session()\n",
    "                                       )"
   ]
  },
  {
   "cell_type": "markdown",
   "metadata": {},
   "source": [
    "Then we define the training data and the validation data."
   ]
  },
  {
   "cell_type": "code",
   "execution_count": null,
   "metadata": {},
   "outputs": [],
   "source": [
    "train_channel = sagemaker.inputs.TrainingInput(\"s3://{}/{}/train/\".format(bucket,prefix,train_file),\n",
    "                                               content_type='text/csv'\n",
    "                                              )\n",
    "\n",
    "validate_channel = sagemaker.inputs.TrainingInput(\"s3://{}/{}/validate/\".format(bucket,prefix,validate_file),\n",
    "                                               content_type='text/csv'\n",
    "                                              )\n",
    "\n",
    "data_channels = {'train': train_channel, 'validation': validate_channel}"
   ]
  },
  {
   "cell_type": "markdown",
   "metadata": {},
   "source": [
    "And after all these steps we can train our model by using the training and validation data we just defined."
   ]
  },
  {
   "cell_type": "code",
   "execution_count": null,
   "metadata": {},
   "outputs": [],
   "source": [
    "xgb_model.fit(inputs=data_channels,logs=False)"
   ]
  },
  {
   "cell_type": "markdown",
   "metadata": {},
   "source": [
    "Now that the model has been created we can deploy it."
   ]
  },
  {
   "cell_type": "code",
   "execution_count": null,
   "metadata": {},
   "outputs": [],
   "source": [
    "xgb_predictor = xgb_model.deploy(\n",
    "    initial_instance_count=1,\n",
    "    instance_type='ml.m4.xlarge',\n",
    "    serializer=sagemaker.serializers.CSVSerializer(),\n",
    "    deserializer=sagemaker.deserializers.CSVDeserializer()\n",
    ")"
   ]
  },
  {
   "cell_type": "markdown",
   "metadata": {},
   "source": [
    "Once the model has been deployed we can use our test data to test how accurate the model actually is."
   ]
  },
  {
   "cell_type": "code",
   "execution_count": null,
   "metadata": {},
   "outputs": [],
   "source": [
    "test_data_bytes = test.to_csv(index=False, header=False).encode('utf-8')\n",
    "predictions = xgb_predictor.predict(test_data_bytes)\n",
    "\n",
    "actual_values = test['yield(tonnes/ha)']\n",
    "rmse = np.sqrt(mean_squared_error(actual_values, predictions))\n",
    "print(\"Root Mean Squared Error:\", rmse)"
   ]
  }
 ],
 "metadata": {
  "kernelspec": {
   "display_name": ".venv",
   "language": "python",
   "name": "python3"
  },
  "language_info": {
   "codemirror_mode": {
    "name": "ipython",
    "version": 3
   },
   "file_extension": ".py",
   "mimetype": "text/x-python",
   "name": "python",
   "nbconvert_exporter": "python",
   "pygments_lexer": "ipython3",
   "version": "3.10.11"
  }
 },
 "nbformat": 4,
 "nbformat_minor": 4
}
