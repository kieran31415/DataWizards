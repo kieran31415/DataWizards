{
 "cells": [
  {
   "cell_type": "code",
   "execution_count": 2,
   "metadata": {},
   "outputs": [],
   "source": [
    "import pandas as pd\n",
    "import matplotlib.pyplot as plt\n",
    "import seaborn as sns\n",
    "import numpy as np\n",
    "import category_encoders as ce"
   ]
  },
  {
   "cell_type": "code",
   "execution_count": 12,
   "metadata": {},
   "outputs": [],
   "source": [
    "# Load a sheet into a DataFrame by its name\n",
    "df = pd.read_excel('./files/food-twentieth-century-crop-statistics-1900-2017-xlsx.xlsx', sheet_name=\"CropStats\")"
   ]
  },
  {
   "cell_type": "code",
   "execution_count": 11,
   "metadata": {},
   "outputs": [
    {
     "name": "stdout",
     "output_type": "stream",
     "text": [
      "<class 'pandas.core.frame.DataFrame'>\n",
      "RangeIndex: 36707 entries, 0 to 36706\n",
      "Data columns (total 11 columns):\n",
      " #   Column               Non-Null Count  Dtype  \n",
      "---  ------               --------------  -----  \n",
      " 0   Unnamed: 0           36707 non-null  int64  \n",
      " 1   Harvest_year         36707 non-null  int64  \n",
      " 2   admin0               36707 non-null  object \n",
      " 3   admin1               33716 non-null  object \n",
      " 4   crop                 36707 non-null  object \n",
      " 5   hectares (ha)        35084 non-null  float64\n",
      " 6   production (tonnes)  34709 non-null  float64\n",
      " 7   year                 36707 non-null  int64  \n",
      " 8   yield(tonnes/ha)     34694 non-null  float64\n",
      " 9   admin2               0 non-null      float64\n",
      " 10  notes                5641 non-null   object \n",
      "dtypes: float64(4), int64(3), object(4)\n",
      "memory usage: 3.1+ MB\n"
     ]
    }
   ],
   "source": [
    "# See basic info about our dataframe\n",
    "df.info()"
   ]
  },
  {
   "cell_type": "markdown",
   "metadata": {},
   "source": [
    "## Drop columns we don't need"
   ]
  },
  {
   "cell_type": "code",
   "execution_count": 14,
   "metadata": {},
   "outputs": [
    {
     "name": "stdout",
     "output_type": "stream",
     "text": [
      "<class 'pandas.core.frame.DataFrame'>\n",
      "RangeIndex: 36707 entries, 0 to 36706\n",
      "Data columns (total 9 columns):\n",
      " #   Column               Non-Null Count  Dtype  \n",
      "---  ------               --------------  -----  \n",
      " 0   Unnamed: 0           36707 non-null  int64  \n",
      " 1   Harvest_year         36707 non-null  int64  \n",
      " 2   admin0               36707 non-null  object \n",
      " 3   admin1               33716 non-null  object \n",
      " 4   crop                 36707 non-null  object \n",
      " 5   hectares (ha)        35084 non-null  float64\n",
      " 6   production (tonnes)  34709 non-null  float64\n",
      " 7   year                 36707 non-null  int64  \n",
      " 8   yield(tonnes/ha)     34694 non-null  float64\n",
      "dtypes: float64(3), int64(3), object(3)\n",
      "memory usage: 2.5+ MB\n"
     ]
    }
   ],
   "source": [
    "df=df.drop(['admin2','notes'], axis=1)\n",
    "df.info()"
   ]
  },
  {
   "cell_type": "markdown",
   "metadata": {},
   "source": [
    "## remove columns when hecatere, production and yield is incomplete and can't be calculated"
   ]
  },
  {
   "cell_type": "code",
   "execution_count": null,
   "metadata": {},
   "outputs": [],
   "source": []
  }
 ],
 "metadata": {
  "kernelspec": {
   "display_name": "Python 3",
   "language": "python",
   "name": "python3"
  },
  "language_info": {
   "codemirror_mode": {
    "name": "ipython",
    "version": 3
   },
   "file_extension": ".py",
   "mimetype": "text/x-python",
   "name": "python",
   "nbconvert_exporter": "python",
   "pygments_lexer": "ipython3",
   "version": "3.11.6"
  }
 },
 "nbformat": 4,
 "nbformat_minor": 2
}
