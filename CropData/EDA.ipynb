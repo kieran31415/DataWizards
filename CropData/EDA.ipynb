{
 "cells": [
  {
   "cell_type": "markdown",
   "metadata": {},
   "source": [
    "# EDA CropData"
   ]
  },
  {
   "cell_type": "code",
   "execution_count": null,
   "metadata": {},
   "outputs": [],
   "source": [
    "import pandas as pd\n",
    "import matplotlib.pyplot as plt\n",
    "import seaborn as sns\n",
    "import numpy as np\n",
    "import category_encoders as ce"
   ]
  },
  {
   "cell_type": "code",
   "execution_count": null,
   "metadata": {},
   "outputs": [],
   "source": [
    "# Load a sheet into a DataFrame by its name\n",
    "df = pd.read_excel('files/food-twentieth-century-crop-statistics-1900-2017-xlsx.xlsx', sheet_name=\"CropStats\")"
   ]
  },
  {
   "cell_type": "code",
   "execution_count": null,
   "metadata": {},
   "outputs": [],
   "source": [
    "# See basic info about our dataframe\n",
    "df.info()"
   ]
  },
  {
   "cell_type": "markdown",
   "metadata": {},
   "source": [
    "## Drop columns we don't need."
   ]
  },
  {
   "cell_type": "code",
   "execution_count": null,
   "metadata": {},
   "outputs": [],
   "source": [
    "df=df.drop(['Unnamed: 0','admin2','notes'], axis=1)\n",
    "df.info()"
   ]
  },
  {
   "cell_type": "code",
   "execution_count": null,
   "metadata": {},
   "outputs": [],
   "source": [
    "sizes = [df['admin1'].count(),len(df)-df['admin1'].count()]\n",
    "plt.figure(figsize=(7,7))\n",
    "plt.title('Region filled in')\n",
    "plt.pie(sizes,labels=['filled in','not filled in'],autopct='%1.1f%%', textprops={'fontsize':13})\n",
    "plt.show()"
   ]
  },
  {
   "cell_type": "code",
   "execution_count": null,
   "metadata": {},
   "outputs": [],
   "source": [
    "df.loc[df['admin0'] == 'Belgium']"
   ]
  },
  {
   "cell_type": "code",
   "execution_count": null,
   "metadata": {},
   "outputs": [],
   "source": [
    "df_BelgiumNullValues=df.loc[df['admin0'] == 'Belgium']\n",
    "print('The amount of filled in regions in Belgium:',df_BelgiumNullValues['admin1'].count())"
   ]
  },
  {
   "cell_type": "code",
   "execution_count": null,
   "metadata": {},
   "outputs": [],
   "source": [
    "df_replaceAdmin1 = df.copy()\n",
    "df_replaceAdmin1['admin1'].fillna(df['admin0'], inplace=True)\n",
    "df_replaceAdmin1"
   ]
  },
  {
   "cell_type": "code",
   "execution_count": null,
   "metadata": {},
   "outputs": [],
   "source": [
    "df_transformed = df_replaceAdmin1.copy()"
   ]
  },
  {
   "cell_type": "markdown",
   "metadata": {},
   "source": [
    "Hier gaan we kijken of er plekken zijn waar we de yield nog kunnen berekenen aan de hand van de hectaren en de production."
   ]
  },
  {
   "cell_type": "code",
   "execution_count": null,
   "metadata": {},
   "outputs": [],
   "source": [
    "df_transformed.loc[df_transformed['hectares (ha)'].notna()][df_transformed['production (tonnes)'].notna()][df_transformed['yield(tonnes/ha)'].isna()][df_transformed['hectares (ha)'] != 0]"
   ]
  },
  {
   "cell_type": "markdown",
   "metadata": {},
   "source": [
    "We hebben de yield ingevuld waarbij de hectaren en de productie waardes hadden."
   ]
  },
  {
   "cell_type": "code",
   "execution_count": null,
   "metadata": {},
   "outputs": [],
   "source": [
    "for index, row in df_transformed.iterrows():\n",
    "    if pd.notna(row['hectares (ha)']) and pd.notna(row['production (tonnes)']) and pd.isna(row['yield(tonnes/ha)']) and row['hectares (ha)'] != 0:\n",
    "        df_transformed.at[index, 'yield(tonnes/ha)'] = row['production (tonnes)'] / row['hectares (ha)']\n",
    "df_transformed"
   ]
  },
  {
   "cell_type": "markdown",
   "metadata": {},
   "source": [
    "Hier kunnen we zien dat de yield 0 is. Dit komt omdat er ook geen production was ook al zijn er wel gewassen geplant (De gewassen kunnen bijvoorbeeld vernield zijn door een storm)."
   ]
  },
  {
   "cell_type": "code",
   "execution_count": null,
   "metadata": {},
   "outputs": [],
   "source": [
    "df_transformed.loc[df_transformed['yield(tonnes/ha)'] == 0]"
   ]
  },
  {
   "cell_type": "markdown",
   "metadata": {},
   "source": [
    "Waar de yield niet ingevuld was hebben we aan de hand van backwards fill deze kunnen opvullen. We hebben opgemerkt dat de meeste missing values zich voordoen in de vroegere jaren. Daarom hebben we voor backwards fill gekozen zodat als er van land veranderd wordt zodat er zo wijnig mogelijk met het andere land rekening gehouden wordt."
   ]
  },
  {
   "cell_type": "code",
   "execution_count": null,
   "metadata": {},
   "outputs": [],
   "source": [
    "df_transformed['yield(tonnes/ha)'].bfill(inplace=True)\n",
    "\n",
    "df_transformed.head(20)"
   ]
  },
  {
   "cell_type": "markdown",
   "metadata": {},
   "source": [
    "Nu hebben hectaren en production niet heel veel meerwaarde omdat de yield is wat we gaan willen predicten."
   ]
  },
  {
   "cell_type": "code",
   "execution_count": null,
   "metadata": {},
   "outputs": [],
   "source": [
    "df_transformed=df_transformed.drop(['hectares (ha)','production (tonnes)'], axis=1)\n",
    "df_transformed"
   ]
  }
 ],
 "metadata": {
  "language_info": {
   "name": "python"
  }
 },
 "nbformat": 4,
 "nbformat_minor": 2
}
